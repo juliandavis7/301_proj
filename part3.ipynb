{
 "cells": [
  {
   "cell_type": "code",
   "execution_count": 30,
   "metadata": {
    "colab": {},
    "colab_type": "code",
    "id": "CSOFNkcu7FId"
   },
   "outputs": [
    {
     "data": {
      "text/html": [
       "<div>\n",
       "<style scoped>\n",
       "    .dataframe tbody tr th:only-of-type {\n",
       "        vertical-align: middle;\n",
       "    }\n",
       "\n",
       "    .dataframe tbody tr th {\n",
       "        vertical-align: top;\n",
       "    }\n",
       "\n",
       "    .dataframe thead th {\n",
       "        text-align: right;\n",
       "    }\n",
       "</style>\n",
       "<table border=\"1\" class=\"dataframe\">\n",
       "  <thead>\n",
       "    <tr style=\"text-align: right;\">\n",
       "      <th></th>\n",
       "      <th></th>\n",
       "      <th>fertilityRate</th>\n",
       "      <th>lifeExpectancy</th>\n",
       "      <th>mortalityRate</th>\n",
       "      <th>popGrowth</th>\n",
       "      <th>ruralPopPct</th>\n",
       "      <th>gdpGrowthPct</th>\n",
       "      <th>gdpUS</th>\n",
       "      <th>gdpPerCapitaUS</th>\n",
       "      <th>gdpPerCapita ppp</th>\n",
       "      <th>gdp pppInternational</th>\n",
       "      <th>...</th>\n",
       "      <th>gniPerCapita</th>\n",
       "      <th>gniPerCapita ppp</th>\n",
       "      <th>pop14under</th>\n",
       "      <th>pop15to24</th>\n",
       "      <th>pop25to64</th>\n",
       "      <th>pop65over</th>\n",
       "      <th>hivPct</th>\n",
       "      <th>povertyRatio</th>\n",
       "      <th>totalPop</th>\n",
       "      <th>happinessScore</th>\n",
       "    </tr>\n",
       "    <tr>\n",
       "      <th>Country</th>\n",
       "      <th>Year</th>\n",
       "      <th></th>\n",
       "      <th></th>\n",
       "      <th></th>\n",
       "      <th></th>\n",
       "      <th></th>\n",
       "      <th></th>\n",
       "      <th></th>\n",
       "      <th></th>\n",
       "      <th></th>\n",
       "      <th></th>\n",
       "      <th></th>\n",
       "      <th></th>\n",
       "      <th></th>\n",
       "      <th></th>\n",
       "      <th></th>\n",
       "      <th></th>\n",
       "      <th></th>\n",
       "      <th></th>\n",
       "      <th></th>\n",
       "      <th></th>\n",
       "      <th></th>\n",
       "    </tr>\n",
       "  </thead>\n",
       "  <tbody>\n",
       "    <tr>\n",
       "      <td rowspan=\"3\" valign=\"top\">Canada</td>\n",
       "      <td>2015</td>\n",
       "      <td>1.5630</td>\n",
       "      <td>81.90000</td>\n",
       "      <td>4.7</td>\n",
       "      <td>0.83277</td>\n",
       "      <td>18.741</td>\n",
       "      <td>1.00088</td>\n",
       "      <td>1.552522e+12</td>\n",
       "      <td>43327.17364</td>\n",
       "      <td>44406.66587</td>\n",
       "      <td>1.591202e+12</td>\n",
       "      <td>...</td>\n",
       "      <td>47380.0</td>\n",
       "      <td>43720.0</td>\n",
       "      <td>5761.199</td>\n",
       "      <td>4648.731</td>\n",
       "      <td>19833.155</td>\n",
       "      <td>5783.591</td>\n",
       "      <td>0.0</td>\n",
       "      <td>0.0</td>\n",
       "      <td>36026.676</td>\n",
       "      <td>7.427</td>\n",
       "    </tr>\n",
       "    <tr>\n",
       "      <td>2016</td>\n",
       "      <td>1.5433</td>\n",
       "      <td>82.30051</td>\n",
       "      <td>4.6</td>\n",
       "      <td>1.19865</td>\n",
       "      <td>18.700</td>\n",
       "      <td>1.41410</td>\n",
       "      <td>1.526954e+12</td>\n",
       "      <td>42105.90006</td>\n",
       "      <td>44819.11188</td>\n",
       "      <td>1.625347e+12</td>\n",
       "      <td>...</td>\n",
       "      <td>43770.0</td>\n",
       "      <td>44280.0</td>\n",
       "      <td>5784.173</td>\n",
       "      <td>4620.449</td>\n",
       "      <td>19991.505</td>\n",
       "      <td>5986.817</td>\n",
       "      <td>0.0</td>\n",
       "      <td>0.0</td>\n",
       "      <td>36382.944</td>\n",
       "      <td>7.404</td>\n",
       "    </tr>\n",
       "    <tr>\n",
       "      <td>2017</td>\n",
       "      <td>1.4961</td>\n",
       "      <td>82.47049</td>\n",
       "      <td>4.5</td>\n",
       "      <td>1.21548</td>\n",
       "      <td>18.650</td>\n",
       "      <td>3.04735</td>\n",
       "      <td>1.647120e+12</td>\n",
       "      <td>44870.77616</td>\n",
       "      <td>46509.71703</td>\n",
       "      <td>1.707283e+12</td>\n",
       "      <td>...</td>\n",
       "      <td>42790.0</td>\n",
       "      <td>46010.0</td>\n",
       "      <td>5829.397</td>\n",
       "      <td>4562.767</td>\n",
       "      <td>20153.331</td>\n",
       "      <td>6186.600</td>\n",
       "      <td>0.0</td>\n",
       "      <td>0.0</td>\n",
       "      <td>36732.095</td>\n",
       "      <td>7.316</td>\n",
       "    </tr>\n",
       "    <tr>\n",
       "      <td rowspan=\"2\" valign=\"top\">Benin</td>\n",
       "      <td>2015</td>\n",
       "      <td>5.0480</td>\n",
       "      <td>60.63900</td>\n",
       "      <td>66.6</td>\n",
       "      <td>2.77298</td>\n",
       "      <td>54.305</td>\n",
       "      <td>2.09581</td>\n",
       "      <td>8.291156e+09</td>\n",
       "      <td>783.96308</td>\n",
       "      <td>2122.23540</td>\n",
       "      <td>2.244466e+10</td>\n",
       "      <td>...</td>\n",
       "      <td>860.0</td>\n",
       "      <td>2110.0</td>\n",
       "      <td>4551.582</td>\n",
       "      <td>2098.709</td>\n",
       "      <td>3584.299</td>\n",
       "      <td>341.362</td>\n",
       "      <td>1.0</td>\n",
       "      <td>49.5</td>\n",
       "      <td>10575.952</td>\n",
       "      <td>3.340</td>\n",
       "    </tr>\n",
       "    <tr>\n",
       "      <td>2016</td>\n",
       "      <td>4.9770</td>\n",
       "      <td>60.90700</td>\n",
       "      <td>65.1</td>\n",
       "      <td>2.76353</td>\n",
       "      <td>53.771</td>\n",
       "      <td>3.96486</td>\n",
       "      <td>8.573160e+09</td>\n",
       "      <td>788.53244</td>\n",
       "      <td>2169.70967</td>\n",
       "      <td>2.358973e+10</td>\n",
       "      <td>...</td>\n",
       "      <td>820.0</td>\n",
       "      <td>2160.0</td>\n",
       "      <td>4660.437</td>\n",
       "      <td>2157.572</td>\n",
       "      <td>3702.286</td>\n",
       "      <td>351.768</td>\n",
       "      <td>1.0</td>\n",
       "      <td>0.0</td>\n",
       "      <td>10872.063</td>\n",
       "      <td>3.484</td>\n",
       "    </tr>\n",
       "  </tbody>\n",
       "</table>\n",
       "<p>5 rows × 21 columns</p>\n",
       "</div>"
      ],
      "text/plain": [
       "              fertilityRate  lifeExpectancy  mortalityRate  popGrowth  \\\n",
       "Country Year                                                            \n",
       "Canada  2015         1.5630        81.90000            4.7    0.83277   \n",
       "        2016         1.5433        82.30051            4.6    1.19865   \n",
       "        2017         1.4961        82.47049            4.5    1.21548   \n",
       "Benin   2015         5.0480        60.63900           66.6    2.77298   \n",
       "        2016         4.9770        60.90700           65.1    2.76353   \n",
       "\n",
       "              ruralPopPct  gdpGrowthPct         gdpUS  gdpPerCapitaUS  \\\n",
       "Country Year                                                            \n",
       "Canada  2015       18.741       1.00088  1.552522e+12     43327.17364   \n",
       "        2016       18.700       1.41410  1.526954e+12     42105.90006   \n",
       "        2017       18.650       3.04735  1.647120e+12     44870.77616   \n",
       "Benin   2015       54.305       2.09581  8.291156e+09       783.96308   \n",
       "        2016       53.771       3.96486  8.573160e+09       788.53244   \n",
       "\n",
       "              gdpPerCapita ppp  gdp pppInternational  ...  gniPerCapita  \\\n",
       "Country Year                                          ...                 \n",
       "Canada  2015       44406.66587          1.591202e+12  ...       47380.0   \n",
       "        2016       44819.11188          1.625347e+12  ...       43770.0   \n",
       "        2017       46509.71703          1.707283e+12  ...       42790.0   \n",
       "Benin   2015        2122.23540          2.244466e+10  ...         860.0   \n",
       "        2016        2169.70967          2.358973e+10  ...         820.0   \n",
       "\n",
       "              gniPerCapita ppp  pop14under  pop15to24  pop25to64  pop65over  \\\n",
       "Country Year                                                                  \n",
       "Canada  2015           43720.0    5761.199   4648.731  19833.155   5783.591   \n",
       "        2016           44280.0    5784.173   4620.449  19991.505   5986.817   \n",
       "        2017           46010.0    5829.397   4562.767  20153.331   6186.600   \n",
       "Benin   2015            2110.0    4551.582   2098.709   3584.299    341.362   \n",
       "        2016            2160.0    4660.437   2157.572   3702.286    351.768   \n",
       "\n",
       "              hivPct  povertyRatio   totalPop  happinessScore  \n",
       "Country Year                                                   \n",
       "Canada  2015     0.0           0.0  36026.676           7.427  \n",
       "        2016     0.0           0.0  36382.944           7.404  \n",
       "        2017     0.0           0.0  36732.095           7.316  \n",
       "Benin   2015     1.0          49.5  10575.952           3.340  \n",
       "        2016     1.0           0.0  10872.063           3.484  \n",
       "\n",
       "[5 rows x 21 columns]"
      ]
     },
     "execution_count": 30,
     "metadata": {},
     "output_type": "execute_result"
    }
   ],
   "source": [
    "import pandas as pd\n",
    "import numpy as np\n",
    "\n",
    "df_unesco = pd.read_csv(\"unesco.csv\")\n",
    "df_unesco_train = pd.read_csv(\"unesco_train.csv\")\n",
    "df_unesco.set_index([\"Country\", \"Year\"], inplace=True)\n",
    "df_unesco_train.set_index([\"Country\", \"Year\"], inplace=True)\n",
    "\n",
    "df_unesco_train = df_unesco_train[df_unesco_train[\"pop14under\"] > 0].copy()\n",
    "df_unesco_train\n",
    "df_unesco_train = df_unesco_train.dropna()\n",
    "df_unesco_train.head()"
   ]
  },
  {
   "cell_type": "markdown",
   "metadata": {},
   "source": [
    "The first step is to find the type of machine learning regressor that works the best on our data.  I test this by comparing RMSE's of different learners, including all the features."
   ]
  },
  {
   "cell_type": "code",
   "execution_count": 35,
   "metadata": {
    "colab": {
     "base_uri": "https://localhost:8080/",
     "height": 85
    },
    "colab_type": "code",
    "id": "bkcuEkhbGDzM",
    "outputId": "29b9aa77-c6f5-429a-eb80-e9060c496b36"
   },
   "outputs": [
    {
     "data": {
      "text/plain": [
       "lr     0.857040\n",
       "knn    0.633230\n",
       "dt     0.807410\n",
       "rf     0.567622\n",
       "gr     0.626182\n",
       "dtype: float64"
      ]
     },
     "execution_count": 35,
     "metadata": {},
     "output_type": "execute_result"
    }
   ],
   "source": [
    "from sklearn.pipeline import make_pipeline\n",
    "from sklearn.preprocessing import StandardScaler\n",
    "from sklearn.linear_model import LinearRegression\n",
    "from sklearn.naive_bayes import GaussianNB\n",
    "from sklearn.neighbors import KNeighborsRegressor\n",
    "from sklearn.tree import DecisionTreeRegressor\n",
    "from sklearn.ensemble import RandomForestRegressor, GradientBoostingRegressor\n",
    "from sklearn.model_selection import cross_val_score\n",
    "\n",
    "# my_cols = ['fertilityRate', 'lifeExpectancy', 'popGrowth',\n",
    "#            'ruralPopPct', 'mortalityRate', 'gdpGrowthPct', \n",
    "#            'gdpUS', 'gdpPerCapita ppp', 'gdp pppInternational',\n",
    "#            'gni', 'gniPerCapita', 'happinessScore']\n",
    "\n",
    "Xtrain = df_unesco_train.drop(\"happinessScore\", axis=1)\n",
    "ytrain = df_unesco_train[\"happinessScore\"]\n",
    "\n",
    "def tryModel(model):\n",
    "\n",
    "    pipeline = make_pipeline(\n",
    "      StandardScaler(),\n",
    "      model\n",
    "    )\n",
    "\n",
    "    cv_errs = -cross_val_score(pipeline, X=Xtrain, y=ytrain,\n",
    "                             scoring=\"neg_mean_squared_error\", cv=10)\n",
    "  \n",
    "    return pipeline, np.sqrt(cv_errs.mean())\n",
    "\n",
    "lr = LinearRegression()\n",
    "knn = KNeighborsRegressor()\n",
    "dt = DecisionTreeRegressor()\n",
    "rf = RandomForestRegressor(n_estimators=100, max_features=\"sqrt\")\n",
    "params = {'n_estimators': 100, 'max_depth': 5, 'learning_rate': 0.1}\n",
    "gr = GradientBoostingRegressor(**params) \n",
    "\n",
    "model_dict = {'lr': lr, 'knn': knn, 'dt': dt, 'rf': rf, 'gr': gr}\n",
    "\n",
    "errs = pd.Series()\n",
    "for k, v in model_dict.items():\n",
    "  errs[k] = tryModel(v)[1]\n",
    "errs"
   ]
  },
  {
   "cell_type": "markdown",
   "metadata": {},
   "source": [
    "With the lowest estimated test RMSE around .6, random forrest is the best machine learning model out of those I tested.  The RMSE of .6 can be interpreted as follows: given a country and a year, a prediction for the happiness score will be off by .6 on average.\n",
    "\n",
    "The cells below is where I perform feature selection, choosing only the features that help to predict happines scores.  "
   ]
  },
  {
   "cell_type": "code",
   "execution_count": 45,
   "metadata": {
    "colab": {},
    "colab_type": "code",
    "id": "hSkr3GZV3wTb"
   },
   "outputs": [
    {
     "name": "stdout",
     "output_type": "stream",
     "text": [
      "20\n",
      "20\n"
     ]
    },
    {
     "data": {
      "text/plain": [
       "<matplotlib.axes._subplots.AxesSubplot at 0x7f3db8c42208>"
      ]
     },
     "execution_count": 45,
     "metadata": {},
     "output_type": "execute_result"
    },
    {
     "data": {
      "image/png": "[encoded data removed]",
      "text/plain": [
       "<Figure size 432x288 with 1 Axes>"
      ]
     },
     "metadata": {
      "needs_background": "light"
     },
     "output_type": "display_data"
    }
   ],
   "source": [
    "rf = RandomForestRegressor(max_features=\"sqrt\")\n",
    "# no need to scale for random forest\n",
    "\n",
    "rf.fit(Xtrain, ytrain)\n",
    "importances = rf.feature_importances_\n",
    "print(len(importances))\n",
    "print(len(Xtrain.columns))\n",
    "importances = pd.DataFrame({'Feature':Xtrain.columns,'Importance':importances})\n",
    "importances.sort_values(by='Importance').set_index('Feature').plot.bar()"
   ]
  },
  {
   "cell_type": "markdown",
   "metadata": {},
   "source": [
    "These feature importance scores match my intuition.  It makes sense to me that GDP Per Capita PPP (Purchasing Power Parity) is the most important feature because it describes individual relative wealth.  It also makes sense that features like mortality rate, life expectancy, and fertility rate are more important than features like gdp and gdp growth.\n",
    "\n",
    "In the cell below, I'm going to compare and contrast the model with all of the features to one with only the most important features."
   ]
  },
  {
   "cell_type": "code",
   "execution_count": 10,
   "metadata": {},
   "outputs": [
    {
     "data": {
      "text/plain": [
       "All features     0.599780\n",
       "Best features    0.609655\n",
       "dtype: float64"
      ]
     },
     "execution_count": 10,
     "metadata": {},
     "output_type": "execute_result"
    }
   ],
   "source": [
    "errs = pd.Series()\n",
    "\n",
    "all_cols = ['fertilityRate', 'lifeExpectancy', 'popGrowth',\n",
    "           'ruralPopPct', 'mortalityRate', 'gdpGrowthPct', \n",
    "           'gdpUS', 'gdpPerCapita ppp', 'gdp pppInternational',\n",
    "           'gni', 'gniPerCapita', 'happinessScore']\n",
    "\n",
    "Xtrain_all = df_unesco_train[all_cols]\n",
    "Xtrain_all = Xtrain_all.dropna()\n",
    "ytrain_all = Xtrain_all[\"happinessScore\"]\n",
    "Xtrain_all.drop(\"happinessScore\", axis=1, inplace=True)\n",
    "\n",
    "best_cols = ['fertilityRate', 'lifeExpectancy', 'ruralPopPct', 'mortalityRate', \n",
    "             'gdpPerCapita ppp', 'gniPerCapita', 'happinessScore']\n",
    "\n",
    "Xtrain_best = df_unesco_train[best_cols]\n",
    "Xtrain_best = Xtrain_best.dropna()\n",
    "ytrain_best = Xtrain_best[\"happinessScore\"]\n",
    "Xtrain_best.drop(\"happinessScore\", axis=1, inplace=True)\n",
    "\n",
    "def tryModel(Xtrain, ytrain):\n",
    "    cv_errs = -cross_val_score(rf, X=Xtrain, y=ytrain,\n",
    "                             scoring=\"neg_mean_squared_error\", cv=10)\n",
    "  \n",
    "    return np.sqrt(cv_errs.mean())\n",
    "\n",
    "iterations = 10\n",
    "all_rmse = 0\n",
    "best_rmse = 0\n",
    "\n",
    "for i in range(iterations):\n",
    "    all_rmse += tryModel(Xtrain_all, ytrain_all)\n",
    "    best_rmse += tryModel(Xtrain_best, ytrain_best)\n",
    "   \n",
    "errs['All features'] = all_rmse/iterations\n",
    "errs['Best features'] = best_rmse/iterations\n",
    "errs"
   ]
  },
  {
   "cell_type": "code",
   "execution_count": 13,
   "metadata": {},
   "outputs": [
    {
     "data": {
      "text/html": [
       "<div>\n",
       "<style scoped>\n",
       "    .dataframe tbody tr th:only-of-type {\n",
       "        vertical-align: middle;\n",
       "    }\n",
       "\n",
       "    .dataframe tbody tr th {\n",
       "        vertical-align: top;\n",
       "    }\n",
       "\n",
       "    .dataframe thead th {\n",
       "        text-align: right;\n",
       "    }\n",
       "</style>\n",
       "<table border=\"1\" class=\"dataframe\">\n",
       "  <thead>\n",
       "    <tr style=\"text-align: right;\">\n",
       "      <th></th>\n",
       "      <th>All features</th>\n",
       "      <th>Best features</th>\n",
       "    </tr>\n",
       "  </thead>\n",
       "  <tbody>\n",
       "    <tr>\n",
       "      <td>0</td>\n",
       "      <td>0.578558</td>\n",
       "      <td>0.589277</td>\n",
       "    </tr>\n",
       "    <tr>\n",
       "      <td>1</td>\n",
       "      <td>0.596980</td>\n",
       "      <td>0.595153</td>\n",
       "    </tr>\n",
       "    <tr>\n",
       "      <td>2</td>\n",
       "      <td>0.607864</td>\n",
       "      <td>0.604238</td>\n",
       "    </tr>\n",
       "    <tr>\n",
       "      <td>3</td>\n",
       "      <td>0.582882</td>\n",
       "      <td>0.626390</td>\n",
       "    </tr>\n",
       "    <tr>\n",
       "      <td>4</td>\n",
       "      <td>0.610274</td>\n",
       "      <td>0.596665</td>\n",
       "    </tr>\n",
       "    <tr>\n",
       "      <td>5</td>\n",
       "      <td>0.615611</td>\n",
       "      <td>0.634604</td>\n",
       "    </tr>\n",
       "    <tr>\n",
       "      <td>6</td>\n",
       "      <td>0.595253</td>\n",
       "      <td>0.600485</td>\n",
       "    </tr>\n",
       "    <tr>\n",
       "      <td>7</td>\n",
       "      <td>0.609468</td>\n",
       "      <td>0.614760</td>\n",
       "    </tr>\n",
       "    <tr>\n",
       "      <td>8</td>\n",
       "      <td>0.624111</td>\n",
       "      <td>0.616566</td>\n",
       "    </tr>\n",
       "    <tr>\n",
       "      <td>9</td>\n",
       "      <td>0.598786</td>\n",
       "      <td>0.629070</td>\n",
       "    </tr>\n",
       "  </tbody>\n",
       "</table>\n",
       "</div>"
      ],
      "text/plain": [
       "   All features  Best features\n",
       "0      0.578558       0.589277\n",
       "1      0.596980       0.595153\n",
       "2      0.607864       0.604238\n",
       "3      0.582882       0.626390\n",
       "4      0.610274       0.596665\n",
       "5      0.615611       0.634604\n",
       "6      0.595253       0.600485\n",
       "7      0.609468       0.614760\n",
       "8      0.624111       0.616566\n",
       "9      0.598786       0.629070"
      ]
     },
     "execution_count": 13,
     "metadata": {},
     "output_type": "execute_result"
    }
   ],
   "source": [
    "iterations = 10\n",
    "errs = {}\n",
    "for i in range(iterations):\n",
    "    rmses = []\n",
    "    rmses.append(tryModel(Xtrain_all, ytrain_all))\n",
    "    rmses.append(tryModel(Xtrain_best, ytrain_best))\n",
    "    errs[i] = rmses\n",
    "   \n",
    "\n",
    "errs = pd.DataFrame(errs)\n",
    "errs = errs.rename({0: \"All features\", 1: \"Best features\"})\n",
    "errs = errs.transpose()\n",
    "errs"
   ]
  },
  {
   "cell_type": "code",
   "execution_count": 16,
   "metadata": {},
   "outputs": [],
   "source": [
    "%%capture \n",
    "!pip install scikit-posthocs"
   ]
  },
  {
   "cell_type": "code",
   "execution_count": 18,
   "metadata": {},
   "outputs": [
    {
     "data": {
      "text/html": [
       "<div>\n",
       "<style scoped>\n",
       "    .dataframe tbody tr th:only-of-type {\n",
       "        vertical-align: middle;\n",
       "    }\n",
       "\n",
       "    .dataframe tbody tr th {\n",
       "        vertical-align: top;\n",
       "    }\n",
       "\n",
       "    .dataframe thead th {\n",
       "        text-align: right;\n",
       "    }\n",
       "</style>\n",
       "<table border=\"1\" class=\"dataframe\">\n",
       "  <thead>\n",
       "    <tr style=\"text-align: right;\">\n",
       "      <th></th>\n",
       "      <th>All features</th>\n",
       "      <th>Best features</th>\n",
       "    </tr>\n",
       "  </thead>\n",
       "  <tbody>\n",
       "    <tr>\n",
       "      <td>All features</td>\n",
       "      <td>-1.000000</td>\n",
       "      <td>0.210473</td>\n",
       "    </tr>\n",
       "    <tr>\n",
       "      <td>Best features</td>\n",
       "      <td>0.210473</td>\n",
       "      <td>-1.000000</td>\n",
       "    </tr>\n",
       "  </tbody>\n",
       "</table>\n",
       "</div>"
      ],
      "text/plain": [
       "               All features  Best features\n",
       "All features      -1.000000       0.210473\n",
       "Best features      0.210473      -1.000000"
      ]
     },
     "metadata": {},
     "output_type": "display_data"
    },
    {
     "name": "stdout",
     "output_type": "stream",
     "text": [
      "All features     0.601979\n",
      "Best features    0.610721\n",
      "dtype: float64\n"
     ]
    }
   ],
   "source": [
    "import scikit_posthocs as sp\n",
    "\n",
    "a = sp.posthoc_ttest(errs.transpose().values, p_adjust = 'bonferroni')\n",
    "d = pd.DataFrame(a, columns=errs.columns,index=errs.columns)\n",
    "display(d)\n",
    "print(errs.mean().sort_values())"
   ]
  },
  {
   "cell_type": "code",
   "execution_count": 63,
   "metadata": {},
   "outputs": [
    {
     "ename": "NameError",
     "evalue": "name 'df_combined' is not defined",
     "output_type": "error",
     "traceback": [
      "\u001b[0;31m---------------------------------------------------------------------------\u001b[0m",
      "\u001b[0;31mNameError\u001b[0m                                 Traceback (most recent call last)",
      "\u001b[0;32m<ipython-input-63-84f0aa2a3926>\u001b[0m in \u001b[0;36m<module>\u001b[0;34m\u001b[0m\n\u001b[1;32m      3\u001b[0m \u001b[0;31m#This method takes in country name and returns series of happiness score guesses from 1970 to 2017\u001b[0m\u001b[0;34m\u001b[0m\u001b[0;34m\u001b[0m\u001b[0;34m\u001b[0m\u001b[0m\n\u001b[1;32m      4\u001b[0m \u001b[0;31m# can be used to plot happiness score estimates vs year\u001b[0m\u001b[0;34m\u001b[0m\u001b[0;34m\u001b[0m\u001b[0;34m\u001b[0m\u001b[0m\n\u001b[0;32m----> 5\u001b[0;31m \u001b[0mXtrain\u001b[0m \u001b[0;34m=\u001b[0m \u001b[0mdf_combined\u001b[0m\u001b[0;34m[\u001b[0m\u001b[0mlist\u001b[0m\u001b[0;34m(\u001b[0m\u001b[0mmy_cols\u001b[0m\u001b[0;34m)\u001b[0m\u001b[0;34m]\u001b[0m\u001b[0;34m\u001b[0m\u001b[0;34m\u001b[0m\u001b[0m\n\u001b[0m\u001b[1;32m      6\u001b[0m \u001b[0mXtrain\u001b[0m \u001b[0;34m=\u001b[0m \u001b[0mXtrain\u001b[0m\u001b[0;34m.\u001b[0m\u001b[0mdropna\u001b[0m\u001b[0;34m(\u001b[0m\u001b[0;34m)\u001b[0m\u001b[0;34m\u001b[0m\u001b[0;34m\u001b[0m\u001b[0m\n\u001b[1;32m      7\u001b[0m \u001b[0mytrain\u001b[0m \u001b[0;34m=\u001b[0m \u001b[0mXtrain\u001b[0m\u001b[0;34m[\u001b[0m\u001b[0;34m\"happinessScore\"\u001b[0m\u001b[0;34m]\u001b[0m\u001b[0;34m\u001b[0m\u001b[0;34m\u001b[0m\u001b[0m\n",
      "\u001b[0;31mNameError\u001b[0m: name 'df_combined' is not defined"
     ]
    }
   ],
   "source": [
    "# making graphs for a country over time, color coding by predicted vs known happiness data\n",
    "\n",
    "#This method takes in country name and returns series of happiness score guesses from 1970 to 2017\n",
    "# can be used to plot happiness score estimates vs year\n",
    "Xtrain = df_combined[list(my_cols)]\n",
    "Xtrain = Xtrain.dropna()\n",
    "ytrain = Xtrain[\"happinessScore\"]\n",
    "Xtrain.drop(\"happinessScore\", axis=1, inplace=True)\n",
    "\n",
    "def predict_country(country):\n",
    "    cols = my_cols\n",
    "    cols.remove(\"happinessScore\")\n",
    "    Xtest = df_combined[list(cols)]\n",
    "   \n",
    "    df_country = df_unesco.loc[df_unesco['Country'] == country]\n",
    "    df_country = df_country[list(my_cols)]\n",
    "    df_country = df_country.reset_index()\n",
    "    df_country = df_country.drop(['index'], axis=1)\n",
    "    \n",
    "#     df_new = df_unesco['Year'].unique()\n",
    "#     print(len(df_new))\n",
    "    y_pred = rf.fit(Xtrain, ytrain).predict(df_country)\n",
    "    return pd.Series(y_pred)\n",
    "    \n",
    "    \n",
    "\n",
    "happiness_predictions = predict_country(\"Iraq\")\n"
   ]
  },
  {
   "cell_type": "code",
   "execution_count": 139,
   "metadata": {},
   "outputs": [
    {
     "data": {
      "text/plain": [
       "<matplotlib.axes._subplots.AxesSubplot at 0x7f75424b1be0>"
      ]
     },
     "execution_count": 139,
     "metadata": {},
     "output_type": "execute_result"
    },
    {
     "data": {
      "image/png": "[encoded data removed]",
      "text/plain": [
       "<Figure size 432x288 with 1 Axes>"
      ]
     },
     "metadata": {
      "needs_background": "light"
     },
     "output_type": "display_data"
    }
   ],
   "source": [
    "happiness_predictions.plot.line()\n"
   ]
  },
  {
   "cell_type": "markdown",
   "metadata": {},
   "source": [
    "Predicted graph starting at 1970 to 2017 for Iraq\n"
   ]
  },
  {
   "cell_type": "code",
   "execution_count": null,
   "metadata": {},
   "outputs": [],
   "source": []
  }
 ],
 "metadata": {
  "colab": {
   "collapsed_sections": [],
   "name": "466_week2.ipynb",
   "provenance": []
  },
  "kernelspec": {
   "display_name": "Python 3",
   "language": "python",
   "name": "python3"
  },
  "language_info": {
   "codemirror_mode": {
    "name": "ipython",
    "version": 3
   },
   "file_extension": ".py",
   "mimetype": "text/x-python",
   "name": "python",
   "nbconvert_exporter": "python",
   "pygments_lexer": "ipython3",
   "version": "3.7.3"
  }
 },
 "nbformat": 4,
 "nbformat_minor": 4
}
