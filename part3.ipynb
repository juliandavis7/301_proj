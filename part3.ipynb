{
 "cells": [
  {
   "cell_type": "code",
   "execution_count": 1,
   "metadata": {
    "colab": {},
    "colab_type": "code",
    "id": "CSOFNkcu7FId"
   },
   "outputs": [],
   "source": [
    "import pandas as pd\n",
    "import numpy as np\n",
    "\n",
    "df_unesco = pd.read_csv(\"unesco.csv\")\n",
    "df_unesco_train = pd.read_csv(\"unesco_train.csv\")\n",
    "df_unesco.set_index([\"Country\", \"Year\"], inplace=True)\n",
    "df_unesco_train.set_index([\"Country\", \"Year\"], inplace=True)"
   ]
  },
  {
   "cell_type": "markdown",
   "metadata": {},
   "source": [
    "The first step is to find the type of machine learning regressor that works the best on our data.  I test this by comparing RMSE's of different learners, including all the features."
   ]
  },
  {
   "cell_type": "code",
   "execution_count": 55,
   "metadata": {
    "colab": {
     "base_uri": "https://localhost:8080/",
     "height": 85
    },
    "colab_type": "code",
    "id": "bkcuEkhbGDzM",
    "outputId": "29b9aa77-c6f5-429a-eb80-e9060c496b36"
   },
   "outputs": [
    {
     "data": {
      "text/plain": [
       "lr     0.670229\n",
       "knn    0.665158\n",
       "dt     0.763525\n",
       "rf     0.586655\n",
       "gr     0.618608\n",
       "dtype: float64"
      ]
     },
     "execution_count": 55,
     "metadata": {},
     "output_type": "execute_result"
    }
   ],
   "source": [
    "from sklearn.pipeline import make_pipeline\n",
    "from sklearn.preprocessing import StandardScaler\n",
    "from sklearn.linear_model import LinearRegression\n",
    "from sklearn.naive_bayes import GaussianNB\n",
    "from sklearn.neighbors import KNeighborsRegressor\n",
    "from sklearn.tree import DecisionTreeRegressor\n",
    "from sklearn.ensemble import RandomForestRegressor, GradientBoostingRegressor\n",
    "from sklearn.model_selection import cross_val_score\n",
    "\n",
    "my_cols = ['fertilityRate', 'lifeExpectancy', 'popGrowth',\n",
    "           'ruralPopPct', 'mortalityRate', 'gdpGrowthPct', \n",
    "           'gdpUS', 'gdpPerCapita ppp', 'gdp pppInternational',\n",
    "           'gni', 'gniPerCapita', 'happinessScore']\n",
    "\n",
    "Xtrain = df_unesco_train[my_cols]\n",
    "Xtrain = Xtrain.dropna()\n",
    "ytrain = Xtrain[\"happinessScore\"]\n",
    "Xtrain.drop(\"happinessScore\", axis=1, inplace=True)\n",
    "\n",
    "def tryModel(model):\n",
    "\n",
    "  pipeline = make_pipeline(\n",
    "      StandardScaler(),\n",
    "      model\n",
    "    )\n",
    "\n",
    "  cv_errs = -cross_val_score(pipeline, X=Xtrain, y=ytrain,\n",
    "                             scoring=\"neg_mean_squared_error\", cv=10)\n",
    "  \n",
    "  return pipeline, np.sqrt(cv_errs.mean())\n",
    "\n",
    "lr = LinearRegression()\n",
    "knn = KNeighborsRegressor()\n",
    "dt = DecisionTreeRegressor()\n",
    "rf = RandomForestRegressor(n_estimators=100, max_features=\"sqrt\")\n",
    "params = {'n_estimators': 100, 'max_depth': 5, 'learning_rate': 0.1}\n",
    "gr = GradientBoostingRegressor(**params) \n",
    "\n",
    "model_dict = {'lr': lr, 'knn': knn, 'dt': dt, 'rf': rf, 'gr': gr}\n",
    "\n",
    "errs = pd.Series()\n",
    "for k, v in model_dict.items():\n",
    "  errs[k] = tryModel(v)[1]\n",
    "errs"
   ]
  },
  {
   "cell_type": "markdown",
   "metadata": {},
   "source": [
    "With the lowest estimated test RMSE around .6, random forrest is the best machine learning model out of those I tested.  The RMSE of .6 can be interpreted as follows: given a country and a year, a prediction for the happiness score will be off by .6 on average.\n",
    "\n",
    "The cells below is where I perform feature selection, choosing only the features that help to predict happines scores.  "
   ]
  },
  {
   "cell_type": "code",
   "execution_count": 56,
   "metadata": {
    "colab": {},
    "colab_type": "code",
    "id": "hSkr3GZV3wTb"
   },
   "outputs": [
    {
     "name": "stdout",
     "output_type": "stream",
     "text": [
      "11\n",
      "11\n"
     ]
    },
    {
     "data": {
      "text/plain": [
       "<matplotlib.axes._subplots.AxesSubplot at 0x7fa3c17eeba8>"
      ]
     },
     "execution_count": 56,
     "metadata": {},
     "output_type": "execute_result"
    },
    {
     "data": {
      "image/png": "[encoded data removed]",
      "text/plain": [
       "<Figure size 432x288 with 1 Axes>"
      ]
     },
     "metadata": {
      "needs_background": "light"
     },
     "output_type": "display_data"
    }
   ],
   "source": [
    "rf = RandomForestRegressor(max_features=\"sqrt\")\n",
    "# no need to scale for random forest\n",
    "\n",
    "rf.fit(Xtrain, ytrain)\n",
    "importances = rf.feature_importances_\n",
    "print(len(importances))\n",
    "print(len(Xtrain.columns))\n",
    "importances = pd.DataFrame({'Feature':Xtrain.columns,'Importance':importances})\n",
    "importances.sort_values(by='Importance').set_index('Feature').plot.bar()"
   ]
  },
  {
   "cell_type": "markdown",
   "metadata": {},
   "source": [
    "These feature importance scores match my intuition.  It makes sense to me that GDP Per Capita PPP (Purchasing Power Parity) is the most important feature because it describes individual relative wealth.  It also makes sense that features like mortality rate, life expectancy, and fertility rate are more importnact than features like gdp and gdp growth.\n",
    "\n",
    "In the cell below, I'm going to compare and contrast the model with all of the features to one with only the most important features."
   ]
  },
  {
   "cell_type": "code",
   "execution_count": 72,
   "metadata": {},
   "outputs": [
    {
     "data": {
      "text/plain": [
       "All features     0.605296\n",
       "Best features    0.615033\n",
       "dtype: float64"
      ]
     },
     "execution_count": 72,
     "metadata": {},
     "output_type": "execute_result"
    }
   ],
   "source": [
    "errs = pd.Series()\n",
    "\n",
    "all_cols = ['fertilityRate', 'lifeExpectancy', 'popGrowth',\n",
    "           'ruralPopPct', 'mortalityRate', 'gdpGrowthPct', \n",
    "           'gdpUS', 'gdpPerCapita ppp', 'gdp pppInternational',\n",
    "           'gni', 'gniPerCapita', 'happinessScore']\n",
    "\n",
    "Xtrain_all = df_unesco_train[all_cols]\n",
    "Xtrain_all = Xtrain_all.dropna()\n",
    "ytrain_all = Xtrain_all[\"happinessScore\"]\n",
    "Xtrain_all.drop(\"happinessScore\", axis=1, inplace=True)\n",
    "\n",
    "best_cols = ['fertilityRate', 'lifeExpectancy', 'ruralPopPct', 'mortalityRate', \n",
    "             'gdpPerCapita ppp', 'gniPerCapita', 'happinessScore']\n",
    "\n",
    "Xtrain_best = df_unesco_train[best_cols]\n",
    "Xtrain_best = Xtrain_best.dropna()\n",
    "ytrain_best = Xtrain_best[\"happinessScore\"]\n",
    "Xtrain_best.drop(\"happinessScore\", axis=1, inplace=True)\n",
    "\n",
    "def tryModel(Xtrain, ytrain):\n",
    "  cv_errs = -cross_val_score(rf, X=Xtrain, y=ytrain,\n",
    "                             scoring=\"neg_mean_squared_error\", cv=10)\n",
    "  \n",
    "  return np.sqrt(cv_errs.mean())\n",
    "\n",
    "iterations = 10\n",
    "all_rmse = 0\n",
    "best_rmse = 0\n",
    "\n",
    "for i in range(iterations):\n",
    "    all_rmse += tryModel(Xtrain_all, ytrain_all)\n",
    "    best_rmse += tryModel(Xtrain_best, ytrain_best)\n",
    "   \n",
    "errs['All features'] = all_rmse/iterations\n",
    "errs['Best features'] = best_rmse/iterations\n",
    "errs"
   ]
  },
  {
   "cell_type": "code",
   "execution_count": 63,
   "metadata": {},
   "outputs": [
    {
     "ename": "NameError",
     "evalue": "name 'df_combined' is not defined",
     "output_type": "error",
     "traceback": [
      "\u001b[0;31m---------------------------------------------------------------------------\u001b[0m",
      "\u001b[0;31mNameError\u001b[0m                                 Traceback (most recent call last)",
      "\u001b[0;32m<ipython-input-63-84f0aa2a3926>\u001b[0m in \u001b[0;36m<module>\u001b[0;34m\u001b[0m\n\u001b[1;32m      3\u001b[0m \u001b[0;31m#This method takes in country name and returns series of happiness score guesses from 1970 to 2017\u001b[0m\u001b[0;34m\u001b[0m\u001b[0;34m\u001b[0m\u001b[0;34m\u001b[0m\u001b[0m\n\u001b[1;32m      4\u001b[0m \u001b[0;31m# can be used to plot happiness score estimates vs year\u001b[0m\u001b[0;34m\u001b[0m\u001b[0;34m\u001b[0m\u001b[0;34m\u001b[0m\u001b[0m\n\u001b[0;32m----> 5\u001b[0;31m \u001b[0mXtrain\u001b[0m \u001b[0;34m=\u001b[0m \u001b[0mdf_combined\u001b[0m\u001b[0;34m[\u001b[0m\u001b[0mlist\u001b[0m\u001b[0;34m(\u001b[0m\u001b[0mmy_cols\u001b[0m\u001b[0;34m)\u001b[0m\u001b[0;34m]\u001b[0m\u001b[0;34m\u001b[0m\u001b[0;34m\u001b[0m\u001b[0m\n\u001b[0m\u001b[1;32m      6\u001b[0m \u001b[0mXtrain\u001b[0m \u001b[0;34m=\u001b[0m \u001b[0mXtrain\u001b[0m\u001b[0;34m.\u001b[0m\u001b[0mdropna\u001b[0m\u001b[0;34m(\u001b[0m\u001b[0;34m)\u001b[0m\u001b[0;34m\u001b[0m\u001b[0;34m\u001b[0m\u001b[0m\n\u001b[1;32m      7\u001b[0m \u001b[0mytrain\u001b[0m \u001b[0;34m=\u001b[0m \u001b[0mXtrain\u001b[0m\u001b[0;34m[\u001b[0m\u001b[0;34m\"happinessScore\"\u001b[0m\u001b[0;34m]\u001b[0m\u001b[0;34m\u001b[0m\u001b[0;34m\u001b[0m\u001b[0m\n",
      "\u001b[0;31mNameError\u001b[0m: name 'df_combined' is not defined"
     ]
    }
   ],
   "source": [
    "# making graphs for a country over time, color coding by predicted vs known happiness data\n",
    "\n",
    "#This method takes in country name and returns series of happiness score guesses from 1970 to 2017\n",
    "# can be used to plot happiness score estimates vs year\n",
    "Xtrain = df_combined[list(my_cols)]\n",
    "Xtrain = Xtrain.dropna()\n",
    "ytrain = Xtrain[\"happinessScore\"]\n",
    "Xtrain.drop(\"happinessScore\", axis=1, inplace=True)\n",
    "\n",
    "def predict_country(country):\n",
    "    cols = my_cols\n",
    "    cols.remove(\"happinessScore\")\n",
    "    Xtest = df_combined[list(cols)]\n",
    "   \n",
    "    df_country = df_unesco.loc[df_unesco['Country'] == country]\n",
    "    df_country = df_country[list(my_cols)]\n",
    "    df_country = df_country.reset_index()\n",
    "    df_country = df_country.drop(['index'], axis=1)\n",
    "    \n",
    "#     df_new = df_unesco['Year'].unique()\n",
    "#     print(len(df_new))\n",
    "    y_pred = rf.fit(Xtrain, ytrain).predict(df_country)\n",
    "    return pd.Series(y_pred)\n",
    "    \n",
    "    \n",
    "\n",
    "happiness_predictions = predict_country(\"Iraq\")\n"
   ]
  },
  {
   "cell_type": "code",
   "execution_count": 139,
   "metadata": {},
   "outputs": [
    {
     "data": {
      "text/plain": [
       "<matplotlib.axes._subplots.AxesSubplot at 0x7f75424b1be0>"
      ]
     },
     "execution_count": 139,
     "metadata": {},
     "output_type": "execute_result"
    },
    {
     "data": {
      "image/png": "[encoded data removed]",
      "text/plain": [
       "<Figure size 432x288 with 1 Axes>"
      ]
     },
     "metadata": {
      "needs_background": "light"
     },
     "output_type": "display_data"
    }
   ],
   "source": [
    "happiness_predictions.plot.line()\n"
   ]
  },
  {
   "cell_type": "markdown",
   "metadata": {},
   "source": [
    "Predicted graph starting at 1970 to 2017 for Iraq\n"
   ]
  },
  {
   "cell_type": "code",
   "execution_count": null,
   "metadata": {},
   "outputs": [],
   "source": []
  }
 ],
 "metadata": {
  "colab": {
   "collapsed_sections": [],
   "name": "466_week2.ipynb",
   "provenance": []
  },
  "kernelspec": {
   "display_name": "Python 3",
   "language": "python",
   "name": "python3"
  },
  "language_info": {
   "codemirror_mode": {
    "name": "ipython",
    "version": 3
   },
   "file_extension": ".py",
   "mimetype": "text/x-python",
   "name": "python",
   "nbconvert_exporter": "python",
   "pygments_lexer": "ipython3",
   "version": "3.7.3"
  }
 },
 "nbformat": 4,
 "nbformat_minor": 4
}
