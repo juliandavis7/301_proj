{
 "cells": [
  {
   "cell_type": "markdown",
   "metadata": {},
   "source": [
    "PART 2 - DATA EXPLORATION"
   ]
  },
  {
   "cell_type": "code",
   "execution_count": 1,
   "metadata": {},
   "outputs": [
    {
     "data": {
      "text/html": [
       "<div>\n",
       "<style scoped>\n",
       "    .dataframe tbody tr th:only-of-type {\n",
       "        vertical-align: middle;\n",
       "    }\n",
       "\n",
       "    .dataframe tbody tr th {\n",
       "        vertical-align: top;\n",
       "    }\n",
       "\n",
       "    .dataframe thead th {\n",
       "        text-align: right;\n",
       "    }\n",
       "</style>\n",
       "<table border=\"1\" class=\"dataframe\">\n",
       "  <thead>\n",
       "    <tr style=\"text-align: right;\">\n",
       "      <th></th>\n",
       "      <th></th>\n",
       "      <th>Country</th>\n",
       "      <th>Year</th>\n",
       "      <th>fertilityRate</th>\n",
       "      <th>lifeExpectancy</th>\n",
       "      <th>mortalityRate</th>\n",
       "      <th>popGrowth</th>\n",
       "      <th>ruralPopPct</th>\n",
       "      <th>gdpGrowthPct</th>\n",
       "      <th>gdpUS</th>\n",
       "      <th>gdpPerCapitaUS</th>\n",
       "      <th>...</th>\n",
       "      <th>gniPerCapita</th>\n",
       "      <th>pop14under</th>\n",
       "      <th>pop15to24</th>\n",
       "      <th>pop25to64</th>\n",
       "      <th>pop65over</th>\n",
       "      <th>totalPop</th>\n",
       "      <th>gdpPerCapita ppp</th>\n",
       "      <th>gdp pppInternational</th>\n",
       "      <th>gniPerCapita ppp</th>\n",
       "      <th>happinessScore</th>\n",
       "    </tr>\n",
       "    <tr>\n",
       "      <th>Country</th>\n",
       "      <th>Year</th>\n",
       "      <th></th>\n",
       "      <th></th>\n",
       "      <th></th>\n",
       "      <th></th>\n",
       "      <th></th>\n",
       "      <th></th>\n",
       "      <th></th>\n",
       "      <th></th>\n",
       "      <th></th>\n",
       "      <th></th>\n",
       "      <th></th>\n",
       "      <th></th>\n",
       "      <th></th>\n",
       "      <th></th>\n",
       "      <th></th>\n",
       "      <th></th>\n",
       "      <th></th>\n",
       "      <th></th>\n",
       "      <th></th>\n",
       "      <th></th>\n",
       "      <th></th>\n",
       "    </tr>\n",
       "  </thead>\n",
       "  <tbody>\n",
       "    <tr>\n",
       "      <td rowspan=\"3\" valign=\"top\">Australia</td>\n",
       "      <td>2015</td>\n",
       "      <td>Australia</td>\n",
       "      <td>2015</td>\n",
       "      <td>1.814</td>\n",
       "      <td>82.40000</td>\n",
       "      <td>3.2</td>\n",
       "      <td>1.43922</td>\n",
       "      <td>14.299</td>\n",
       "      <td>2.35114</td>\n",
       "      <td>1.349034e+12</td>\n",
       "      <td>56644.03396</td>\n",
       "      <td>...</td>\n",
       "      <td>60440.0</td>\n",
       "      <td>4520.213</td>\n",
       "      <td>3172.395</td>\n",
       "      <td>12684.814</td>\n",
       "      <td>3555.080</td>\n",
       "      <td>23932.502</td>\n",
       "      <td>NaN</td>\n",
       "      <td>NaN</td>\n",
       "      <td>NaN</td>\n",
       "      <td>7.284</td>\n",
       "    </tr>\n",
       "    <tr>\n",
       "      <td>2016</td>\n",
       "      <td>Australia</td>\n",
       "      <td>2016</td>\n",
       "      <td>1.752</td>\n",
       "      <td>82.44878</td>\n",
       "      <td>3.1</td>\n",
       "      <td>1.56194</td>\n",
       "      <td>14.200</td>\n",
       "      <td>2.82731</td>\n",
       "      <td>1.208039e+12</td>\n",
       "      <td>49937.73139</td>\n",
       "      <td>...</td>\n",
       "      <td>54180.0</td>\n",
       "      <td>4598.344</td>\n",
       "      <td>3155.240</td>\n",
       "      <td>12835.482</td>\n",
       "      <td>3673.646</td>\n",
       "      <td>24262.712</td>\n",
       "      <td>NaN</td>\n",
       "      <td>NaN</td>\n",
       "      <td>NaN</td>\n",
       "      <td>7.313</td>\n",
       "    </tr>\n",
       "    <tr>\n",
       "      <td>2017</td>\n",
       "      <td>Australia</td>\n",
       "      <td>2017</td>\n",
       "      <td>1.765</td>\n",
       "      <td>82.49756</td>\n",
       "      <td>3.0</td>\n",
       "      <td>1.68452</td>\n",
       "      <td>14.096</td>\n",
       "      <td>1.95758</td>\n",
       "      <td>1.323421e+12</td>\n",
       "      <td>53793.53726</td>\n",
       "      <td>...</td>\n",
       "      <td>51360.0</td>\n",
       "      <td>4687.067</td>\n",
       "      <td>3135.675</td>\n",
       "      <td>12974.858</td>\n",
       "      <td>3787.020</td>\n",
       "      <td>24584.620</td>\n",
       "      <td>NaN</td>\n",
       "      <td>NaN</td>\n",
       "      <td>NaN</td>\n",
       "      <td>7.284</td>\n",
       "    </tr>\n",
       "    <tr>\n",
       "      <td rowspan=\"2\" valign=\"top\">Austria</td>\n",
       "      <td>2015</td>\n",
       "      <td>Austria</td>\n",
       "      <td>2015</td>\n",
       "      <td>1.490</td>\n",
       "      <td>81.19024</td>\n",
       "      <td>3.0</td>\n",
       "      <td>1.12099</td>\n",
       "      <td>42.285</td>\n",
       "      <td>1.14298</td>\n",
       "      <td>3.818057e+11</td>\n",
       "      <td>44176.67174</td>\n",
       "      <td>...</td>\n",
       "      <td>47490.0</td>\n",
       "      <td>1225.425</td>\n",
       "      <td>1008.434</td>\n",
       "      <td>4809.700</td>\n",
       "      <td>1635.101</td>\n",
       "      <td>8678.660</td>\n",
       "      <td>NaN</td>\n",
       "      <td>NaN</td>\n",
       "      <td>NaN</td>\n",
       "      <td>7.200</td>\n",
       "    </tr>\n",
       "    <tr>\n",
       "      <td>2016</td>\n",
       "      <td>Austria</td>\n",
       "      <td>2016</td>\n",
       "      <td>1.530</td>\n",
       "      <td>81.64146</td>\n",
       "      <td>3.0</td>\n",
       "      <td>1.08140</td>\n",
       "      <td>42.095</td>\n",
       "      <td>2.03957</td>\n",
       "      <td>3.940528e+11</td>\n",
       "      <td>45103.32981</td>\n",
       "      <td>...</td>\n",
       "      <td>46130.0</td>\n",
       "      <td>1239.550</td>\n",
       "      <td>1001.790</td>\n",
       "      <td>4851.921</td>\n",
       "      <td>1654.040</td>\n",
       "      <td>8747.301</td>\n",
       "      <td>NaN</td>\n",
       "      <td>NaN</td>\n",
       "      <td>NaN</td>\n",
       "      <td>7.119</td>\n",
       "    </tr>\n",
       "  </tbody>\n",
       "</table>\n",
       "<p>5 rows × 21 columns</p>\n",
       "</div>"
      ],
      "text/plain": [
       "                  Country  Year  fertilityRate  lifeExpectancy  mortalityRate  \\\n",
       "Country   Year                                                                  \n",
       "Australia 2015  Australia  2015          1.814        82.40000            3.2   \n",
       "          2016  Australia  2016          1.752        82.44878            3.1   \n",
       "          2017  Australia  2017          1.765        82.49756            3.0   \n",
       "Austria   2015    Austria  2015          1.490        81.19024            3.0   \n",
       "          2016    Austria  2016          1.530        81.64146            3.0   \n",
       "\n",
       "                popGrowth  ruralPopPct  gdpGrowthPct         gdpUS  \\\n",
       "Country   Year                                                       \n",
       "Australia 2015    1.43922       14.299       2.35114  1.349034e+12   \n",
       "          2016    1.56194       14.200       2.82731  1.208039e+12   \n",
       "          2017    1.68452       14.096       1.95758  1.323421e+12   \n",
       "Austria   2015    1.12099       42.285       1.14298  3.818057e+11   \n",
       "          2016    1.08140       42.095       2.03957  3.940528e+11   \n",
       "\n",
       "                gdpPerCapitaUS  ...  gniPerCapita  pop14under  pop15to24  \\\n",
       "Country   Year                  ...                                        \n",
       "Australia 2015     56644.03396  ...       60440.0    4520.213   3172.395   \n",
       "          2016     49937.73139  ...       54180.0    4598.344   3155.240   \n",
       "          2017     53793.53726  ...       51360.0    4687.067   3135.675   \n",
       "Austria   2015     44176.67174  ...       47490.0    1225.425   1008.434   \n",
       "          2016     45103.32981  ...       46130.0    1239.550   1001.790   \n",
       "\n",
       "                pop25to64  pop65over   totalPop  gdpPerCapita ppp  \\\n",
       "Country   Year                                                      \n",
       "Australia 2015  12684.814   3555.080  23932.502               NaN   \n",
       "          2016  12835.482   3673.646  24262.712               NaN   \n",
       "          2017  12974.858   3787.020  24584.620               NaN   \n",
       "Austria   2015   4809.700   1635.101   8678.660               NaN   \n",
       "          2016   4851.921   1654.040   8747.301               NaN   \n",
       "\n",
       "                gdp pppInternational  gniPerCapita ppp  happinessScore  \n",
       "Country   Year                                                          \n",
       "Australia 2015                   NaN               NaN           7.284  \n",
       "          2016                   NaN               NaN           7.313  \n",
       "          2017                   NaN               NaN           7.284  \n",
       "Austria   2015                   NaN               NaN           7.200  \n",
       "          2016                   NaN               NaN           7.119  \n",
       "\n",
       "[5 rows x 21 columns]"
      ]
     },
     "execution_count": 1,
     "metadata": {},
     "output_type": "execute_result"
    }
   ],
   "source": [
    "import pandas as pd\n",
    "\n",
    "df = pd.read_csv(\"unesco_train.csv\")\n",
    "df.set_index([\"Country\", \"Year\"], drop=False, inplace=True)\n",
    "df.head()"
   ]
  },
  {
   "cell_type": "markdown",
   "metadata": {},
   "source": [
    "First, I explored the most happy and least happy countries for years 2015-2017 and wanted to see if these countries would match my intuition."
   ]
  },
  {
   "cell_type": "code",
   "execution_count": 2,
   "metadata": {},
   "outputs": [
    {
     "name": "stdout",
     "output_type": "stream",
     "text": [
      "\n",
      "Top 3 'Most Happy' Countries (2015)\n"
     ]
    },
    {
     "data": {
      "text/plain": [
       "Country      Year\n",
       "Switzerland  2015    7.587\n",
       "Iceland      2015    7.561\n",
       "Denmark      2015    7.527\n",
       "Name: happinessScore, dtype: float64"
      ]
     },
     "metadata": {},
     "output_type": "display_data"
    },
    {
     "name": "stdout",
     "output_type": "stream",
     "text": [
      "\n",
      "Top 3 'Least Happy' Countries (2015)\n"
     ]
    },
    {
     "data": {
      "text/plain": [
       "Country  Year\n",
       "Togo     2015    2.839\n",
       "Burundi  2015    2.905\n",
       "Syria    2015    3.006\n",
       "Name: happinessScore, dtype: float64"
      ]
     },
     "metadata": {},
     "output_type": "display_data"
    },
    {
     "name": "stdout",
     "output_type": "stream",
     "text": [
      "\n",
      "Top 3 'Most Happy' Countries (2016)\n"
     ]
    },
    {
     "data": {
      "text/plain": [
       "Country      Year\n",
       "Denmark      2016    7.526\n",
       "Switzerland  2016    7.509\n",
       "Iceland      2016    7.501\n",
       "Name: happinessScore, dtype: float64"
      ]
     },
     "metadata": {},
     "output_type": "display_data"
    },
    {
     "name": "stdout",
     "output_type": "stream",
     "text": [
      "\n",
      "Top 3 'Least Happy' Countries (2016)\n"
     ]
    },
    {
     "data": {
      "text/plain": [
       "Country  Year\n",
       "Burundi  2016    2.905\n",
       "Syria    2016    3.069\n",
       "Togo     2016    3.303\n",
       "Name: happinessScore, dtype: float64"
      ]
     },
     "metadata": {},
     "output_type": "display_data"
    },
    {
     "name": "stdout",
     "output_type": "stream",
     "text": [
      "\n",
      "Top 3 'Most Happy' Countries (2017)\n"
     ]
    },
    {
     "data": {
      "text/plain": [
       "Country  Year\n",
       "Norway   2017    7.537\n",
       "Denmark  2017    7.522\n",
       "Iceland  2017    7.504\n",
       "Name: happinessScore, dtype: float64"
      ]
     },
     "metadata": {},
     "output_type": "display_data"
    },
    {
     "name": "stdout",
     "output_type": "stream",
     "text": [
      "\n",
      "Top 3 'Least Happy' Countries (2017)\n"
     ]
    },
    {
     "data": {
      "text/plain": [
       "Country                   Year\n",
       "Central African Republic  2017    2.693\n",
       "Burundi                   2017    2.905\n",
       "Tanzania                  2017    3.349\n",
       "Name: happinessScore, dtype: float64"
      ]
     },
     "metadata": {},
     "output_type": "display_data"
    }
   ],
   "source": [
    "df_2015 = df[df[\"Year\"] == 2015]\n",
    "df_2016 = df[df[\"Year\"] == 2016]\n",
    "df_2017 = df[df[\"Year\"] == 2017]\n",
    "\n",
    "df_yr_dict = {2015: df_2015, 2016: df_2016, 2017: df_2017}\n",
    "for k, v in df_yr_dict.items():\n",
    "    print(\"\\nTop 3 'Most Happy' Countries (%d)\" % k)\n",
    "    display(v[\"happinessScore\"].sort_values(ascending=False)[:3])\n",
    "    print(\"\\nTop 3 'Least Happy' Countries (%d)\" % k)\n",
    "    display(v[\"happinessScore\"].sort_values(ascending=True)[:3])\n"
   ]
  },
  {
   "cell_type": "markdown",
   "metadata": {},
   "source": [
    "The results above match my intuition.  \n",
    "- Switzerland is recorded as one of the top 3 happiest countries in 2015 and 2016 and this makes sense considering Switzerland is known for their excellent health care, family planning, and low death rates.\n",
    "- Syria, on the other hand, is recorded as one of the bottom 3 hhappiest countries in 2015 and 2016.  This makes sense considering Syria was (and still is) unergoing a civil war. \n",
    "\n",
    "Now, I will train this data, using the happinessScore as the labels, to fit machine learning regression models.  I will use the models I have fit to predict on the larger unesco data set (years 1970-2019).  The rest of my exploration will inlove this larger dataset and my corresponding predictions for it."
   ]
  },
  {
   "cell_type": "code",
   "execution_count": null,
   "metadata": {},
   "outputs": [],
   "source": []
  }
 ],
 "metadata": {
  "colab": {
   "collapsed_sections": [],
   "name": "466_week2.ipynb",
   "provenance": []
  },
  "kernelspec": {
   "display_name": "Python 3",
   "language": "python",
   "name": "python3"
  },
  "language_info": {
   "codemirror_mode": {
    "name": "ipython",
    "version": 3
   },
   "file_extension": ".py",
   "mimetype": "text/x-python",
   "name": "python",
   "nbconvert_exporter": "python",
   "pygments_lexer": "ipython3",
   "version": "3.7.3"
  }
 },
 "nbformat": 4,
 "nbformat_minor": 4
}
