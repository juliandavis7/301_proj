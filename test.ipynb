{
 "cells": [
  {
   "cell_type": "markdown",
   "metadata": {},
   "source": [
    "TESTING"
   ]
  },
  {
   "cell_type": "code",
   "execution_count": 48,
   "metadata": {},
   "outputs": [
    {
     "data": {
      "text/html": [
       "<div>\n",
       "<style scoped>\n",
       "    .dataframe tbody tr th:only-of-type {\n",
       "        vertical-align: middle;\n",
       "    }\n",
       "\n",
       "    .dataframe tbody tr th {\n",
       "        vertical-align: top;\n",
       "    }\n",
       "\n",
       "    .dataframe thead th {\n",
       "        text-align: right;\n",
       "    }\n",
       "</style>\n",
       "<table border=\"1\" class=\"dataframe\">\n",
       "  <thead>\n",
       "    <tr style=\"text-align: right;\">\n",
       "      <th></th>\n",
       "      <th></th>\n",
       "      <th>Country</th>\n",
       "      <th>Year</th>\n",
       "      <th>fertilityRate</th>\n",
       "      <th>lifeExpectancy</th>\n",
       "      <th>mortalityRate</th>\n",
       "      <th>popGrowth</th>\n",
       "      <th>ruralPopPct</th>\n",
       "      <th>gdpGrowthPct</th>\n",
       "      <th>gdpUS</th>\n",
       "      <th>gdpPerCapitaUS</th>\n",
       "      <th>...</th>\n",
       "      <th>gni</th>\n",
       "      <th>gniPerCapita</th>\n",
       "      <th>gniPerCapita ppp</th>\n",
       "      <th>pop14under</th>\n",
       "      <th>pop15to24</th>\n",
       "      <th>pop25to64</th>\n",
       "      <th>pop65over</th>\n",
       "      <th>hivPct</th>\n",
       "      <th>povertyRatio</th>\n",
       "      <th>totalPop</th>\n",
       "    </tr>\n",
       "    <tr>\n",
       "      <th>Country</th>\n",
       "      <th>Year</th>\n",
       "      <th></th>\n",
       "      <th></th>\n",
       "      <th></th>\n",
       "      <th></th>\n",
       "      <th></th>\n",
       "      <th></th>\n",
       "      <th></th>\n",
       "      <th></th>\n",
       "      <th></th>\n",
       "      <th></th>\n",
       "      <th></th>\n",
       "      <th></th>\n",
       "      <th></th>\n",
       "      <th></th>\n",
       "      <th></th>\n",
       "      <th></th>\n",
       "      <th></th>\n",
       "      <th></th>\n",
       "      <th></th>\n",
       "      <th></th>\n",
       "      <th></th>\n",
       "    </tr>\n",
       "  </thead>\n",
       "  <tbody>\n",
       "    <tr>\n",
       "      <td rowspan=\"5\" valign=\"top\">Canada</td>\n",
       "      <td>1970</td>\n",
       "      <td>Canada</td>\n",
       "      <td>1970</td>\n",
       "      <td>2.258</td>\n",
       "      <td>72.70049</td>\n",
       "      <td>18.5</td>\n",
       "      <td>1.39783</td>\n",
       "      <td>24.346</td>\n",
       "      <td>3.25561</td>\n",
       "      <td>8.789610e+10</td>\n",
       "      <td>4121.93281</td>\n",
       "      <td>...</td>\n",
       "      <td>9.049216e+10</td>\n",
       "      <td>3970.0</td>\n",
       "      <td>0.0</td>\n",
       "      <td>6440.147</td>\n",
       "      <td>3925.468</td>\n",
       "      <td>9293.993</td>\n",
       "      <td>1714.718</td>\n",
       "      <td>0.0</td>\n",
       "      <td>0.0</td>\n",
       "      <td>21374.326</td>\n",
       "    </tr>\n",
       "    <tr>\n",
       "      <td>1971</td>\n",
       "      <td>Canada</td>\n",
       "      <td>1971</td>\n",
       "      <td>2.141</td>\n",
       "      <td>73.02927</td>\n",
       "      <td>17.6</td>\n",
       "      <td>1.49660</td>\n",
       "      <td>23.910</td>\n",
       "      <td>4.11766</td>\n",
       "      <td>9.927196e+10</td>\n",
       "      <td>4586.25585</td>\n",
       "      <td>...</td>\n",
       "      <td>9.877660e+10</td>\n",
       "      <td>4390.0</td>\n",
       "      <td>0.0</td>\n",
       "      <td>6358.735</td>\n",
       "      <td>4079.901</td>\n",
       "      <td>9521.813</td>\n",
       "      <td>1763.011</td>\n",
       "      <td>0.0</td>\n",
       "      <td>0.0</td>\n",
       "      <td>21723.460</td>\n",
       "    </tr>\n",
       "    <tr>\n",
       "      <td>1972</td>\n",
       "      <td>Canada</td>\n",
       "      <td>1972</td>\n",
       "      <td>1.980</td>\n",
       "      <td>72.93390</td>\n",
       "      <td>16.7</td>\n",
       "      <td>1.59537</td>\n",
       "      <td>24.029</td>\n",
       "      <td>5.44586</td>\n",
       "      <td>1.130828e+11</td>\n",
       "      <td>5141.61672</td>\n",
       "      <td>...</td>\n",
       "      <td>1.104571e+11</td>\n",
       "      <td>5050.0</td>\n",
       "      <td>0.0</td>\n",
       "      <td>6290.521</td>\n",
       "      <td>4213.894</td>\n",
       "      <td>9758.405</td>\n",
       "      <td>1809.374</td>\n",
       "      <td>0.0</td>\n",
       "      <td>0.0</td>\n",
       "      <td>22072.194</td>\n",
       "    </tr>\n",
       "    <tr>\n",
       "      <td>1973</td>\n",
       "      <td>Canada</td>\n",
       "      <td>1973</td>\n",
       "      <td>1.890</td>\n",
       "      <td>73.16268</td>\n",
       "      <td>15.9</td>\n",
       "      <td>1.69414</td>\n",
       "      <td>24.149</td>\n",
       "      <td>6.96420</td>\n",
       "      <td>1.313219e+11</td>\n",
       "      <td>5870.60056</td>\n",
       "      <td>...</td>\n",
       "      <td>1.295094e+11</td>\n",
       "      <td>6060.0</td>\n",
       "      <td>0.0</td>\n",
       "      <td>6223.796</td>\n",
       "      <td>4328.185</td>\n",
       "      <td>10007.184</td>\n",
       "      <td>1856.157</td>\n",
       "      <td>0.0</td>\n",
       "      <td>0.0</td>\n",
       "      <td>22415.322</td>\n",
       "    </tr>\n",
       "    <tr>\n",
       "      <td>1974</td>\n",
       "      <td>Canada</td>\n",
       "      <td>1974</td>\n",
       "      <td>1.837</td>\n",
       "      <td>73.23756</td>\n",
       "      <td>15.0</td>\n",
       "      <td>1.79290</td>\n",
       "      <td>24.269</td>\n",
       "      <td>3.69099</td>\n",
       "      <td>1.604087e+11</td>\n",
       "      <td>7043.47435</td>\n",
       "      <td>...</td>\n",
       "      <td>1.545532e+11</td>\n",
       "      <td>7190.0</td>\n",
       "      <td>0.0</td>\n",
       "      <td>6140.715</td>\n",
       "      <td>4428.317</td>\n",
       "      <td>10270.428</td>\n",
       "      <td>1906.443</td>\n",
       "      <td>0.0</td>\n",
       "      <td>0.0</td>\n",
       "      <td>22745.903</td>\n",
       "    </tr>\n",
       "  </tbody>\n",
       "</table>\n",
       "<p>5 rows × 22 columns</p>\n",
       "</div>"
      ],
      "text/plain": [
       "             Country  Year  fertilityRate  lifeExpectancy  mortalityRate  \\\n",
       "Country Year                                                               \n",
       "Canada  1970  Canada  1970          2.258        72.70049           18.5   \n",
       "        1971  Canada  1971          2.141        73.02927           17.6   \n",
       "        1972  Canada  1972          1.980        72.93390           16.7   \n",
       "        1973  Canada  1973          1.890        73.16268           15.9   \n",
       "        1974  Canada  1974          1.837        73.23756           15.0   \n",
       "\n",
       "              popGrowth  ruralPopPct  gdpGrowthPct         gdpUS  \\\n",
       "Country Year                                                       \n",
       "Canada  1970    1.39783       24.346       3.25561  8.789610e+10   \n",
       "        1971    1.49660       23.910       4.11766  9.927196e+10   \n",
       "        1972    1.59537       24.029       5.44586  1.130828e+11   \n",
       "        1973    1.69414       24.149       6.96420  1.313219e+11   \n",
       "        1974    1.79290       24.269       3.69099  1.604087e+11   \n",
       "\n",
       "              gdpPerCapitaUS  ...           gni  gniPerCapita  \\\n",
       "Country Year                  ...                               \n",
       "Canada  1970      4121.93281  ...  9.049216e+10        3970.0   \n",
       "        1971      4586.25585  ...  9.877660e+10        4390.0   \n",
       "        1972      5141.61672  ...  1.104571e+11        5050.0   \n",
       "        1973      5870.60056  ...  1.295094e+11        6060.0   \n",
       "        1974      7043.47435  ...  1.545532e+11        7190.0   \n",
       "\n",
       "              gniPerCapita ppp  pop14under  pop15to24  pop25to64  pop65over  \\\n",
       "Country Year                                                                  \n",
       "Canada  1970               0.0    6440.147   3925.468   9293.993   1714.718   \n",
       "        1971               0.0    6358.735   4079.901   9521.813   1763.011   \n",
       "        1972               0.0    6290.521   4213.894   9758.405   1809.374   \n",
       "        1973               0.0    6223.796   4328.185  10007.184   1856.157   \n",
       "        1974               0.0    6140.715   4428.317  10270.428   1906.443   \n",
       "\n",
       "              hivPct  povertyRatio   totalPop  \n",
       "Country Year                                   \n",
       "Canada  1970     0.0           0.0  21374.326  \n",
       "        1971     0.0           0.0  21723.460  \n",
       "        1972     0.0           0.0  22072.194  \n",
       "        1973     0.0           0.0  22415.322  \n",
       "        1974     0.0           0.0  22745.903  \n",
       "\n",
       "[5 rows x 22 columns]"
      ]
     },
     "execution_count": 48,
     "metadata": {},
     "output_type": "execute_result"
    }
   ],
   "source": [
    "import pandas as pd\n",
    "import numpy as np\n",
    "\n",
    "df_unesco_train = pd.read_csv(\"unesco_train.csv\")\n",
    "df_unesco = pd.read_csv(\"unesco.csv\")\n",
    "\n",
    "df_unesco_train.set_index([\"Country\", \"Year\"], drop=False, inplace=True)\n",
    "df_unesco.set_index([\"Country\", \"Year\"], drop=False, inplace=True)\n",
    "df_unesco.head()"
   ]
  },
  {
   "cell_type": "code",
   "execution_count": 51,
   "metadata": {},
   "outputs": [
    {
     "data": {
      "text/plain": [
       "False    441\n",
       "Name: pop14under, dtype: int64"
      ]
     },
     "execution_count": 51,
     "metadata": {},
     "output_type": "execute_result"
    }
   ],
   "source": [
    "df_unesco_train = df_unesco_train[df_unesco_train[\"pop14under\"] > 0].copy()\n",
    "(df_unesco_train['pop14under'] == 0).value_counts()"
   ]
  },
  {
   "cell_type": "code",
   "execution_count": 52,
   "metadata": {},
   "outputs": [
    {
     "data": {
      "text/plain": [
       "False    441\n",
       "Name: Country, dtype: int64"
      ]
     },
     "metadata": {},
     "output_type": "display_data"
    },
    {
     "name": "stdout",
     "output_type": "stream",
     "text": [
      "\n"
     ]
    },
    {
     "data": {
      "text/plain": [
       "False    441\n",
       "Name: Year, dtype: int64"
      ]
     },
     "metadata": {},
     "output_type": "display_data"
    },
    {
     "name": "stdout",
     "output_type": "stream",
     "text": [
      "\n"
     ]
    },
    {
     "data": {
      "text/plain": [
       "False    441\n",
       "Name: fertilityRate, dtype: int64"
      ]
     },
     "metadata": {},
     "output_type": "display_data"
    },
    {
     "name": "stdout",
     "output_type": "stream",
     "text": [
      "\n"
     ]
    },
    {
     "data": {
      "text/plain": [
       "False    441\n",
       "Name: lifeExpectancy, dtype: int64"
      ]
     },
     "metadata": {},
     "output_type": "display_data"
    },
    {
     "name": "stdout",
     "output_type": "stream",
     "text": [
      "\n"
     ]
    },
    {
     "data": {
      "text/plain": [
       "False    437\n",
       "True       4\n",
       "Name: mortalityRate, dtype: int64"
      ]
     },
     "metadata": {},
     "output_type": "display_data"
    },
    {
     "name": "stdout",
     "output_type": "stream",
     "text": [
      "\n"
     ]
    },
    {
     "data": {
      "text/plain": [
       "False    441\n",
       "Name: popGrowth, dtype: int64"
      ]
     },
     "metadata": {},
     "output_type": "display_data"
    },
    {
     "name": "stdout",
     "output_type": "stream",
     "text": [
      "\n"
     ]
    },
    {
     "data": {
      "text/plain": [
       "False    441\n",
       "Name: ruralPopPct, dtype: int64"
      ]
     },
     "metadata": {},
     "output_type": "display_data"
    },
    {
     "name": "stdout",
     "output_type": "stream",
     "text": [
      "\n"
     ]
    },
    {
     "data": {
      "text/plain": [
       "False    441\n",
       "Name: gdpGrowthPct, dtype: int64"
      ]
     },
     "metadata": {},
     "output_type": "display_data"
    },
    {
     "name": "stdout",
     "output_type": "stream",
     "text": [
      "\n"
     ]
    },
    {
     "data": {
      "text/plain": [
       "False    441\n",
       "Name: gdpUS, dtype: int64"
      ]
     },
     "metadata": {},
     "output_type": "display_data"
    },
    {
     "name": "stdout",
     "output_type": "stream",
     "text": [
      "\n"
     ]
    },
    {
     "data": {
      "text/plain": [
       "False    441\n",
       "Name: gdpPerCapitaUS, dtype: int64"
      ]
     },
     "metadata": {},
     "output_type": "display_data"
    },
    {
     "name": "stdout",
     "output_type": "stream",
     "text": [
      "\n"
     ]
    },
    {
     "data": {
      "text/plain": [
       "False    441\n",
       "Name: gdpPerCapita ppp, dtype: int64"
      ]
     },
     "metadata": {},
     "output_type": "display_data"
    },
    {
     "name": "stdout",
     "output_type": "stream",
     "text": [
      "\n"
     ]
    },
    {
     "data": {
      "text/plain": [
       "False    441\n",
       "Name: gdp pppInternational, dtype: int64"
      ]
     },
     "metadata": {},
     "output_type": "display_data"
    },
    {
     "name": "stdout",
     "output_type": "stream",
     "text": [
      "\n"
     ]
    },
    {
     "data": {
      "text/plain": [
       "False    441\n",
       "Name: gni, dtype: int64"
      ]
     },
     "metadata": {},
     "output_type": "display_data"
    },
    {
     "name": "stdout",
     "output_type": "stream",
     "text": [
      "\n"
     ]
    },
    {
     "data": {
      "text/plain": [
       "False    441\n",
       "Name: gniPerCapita, dtype: int64"
      ]
     },
     "metadata": {},
     "output_type": "display_data"
    },
    {
     "name": "stdout",
     "output_type": "stream",
     "text": [
      "\n"
     ]
    },
    {
     "data": {
      "text/plain": [
       "False    441\n",
       "Name: gniPerCapita ppp, dtype: int64"
      ]
     },
     "metadata": {},
     "output_type": "display_data"
    },
    {
     "name": "stdout",
     "output_type": "stream",
     "text": [
      "\n"
     ]
    },
    {
     "data": {
      "text/plain": [
       "False    441\n",
       "Name: pop14under, dtype: int64"
      ]
     },
     "metadata": {},
     "output_type": "display_data"
    },
    {
     "name": "stdout",
     "output_type": "stream",
     "text": [
      "\n"
     ]
    },
    {
     "data": {
      "text/plain": [
       "False    441\n",
       "Name: pop15to24, dtype: int64"
      ]
     },
     "metadata": {},
     "output_type": "display_data"
    },
    {
     "name": "stdout",
     "output_type": "stream",
     "text": [
      "\n"
     ]
    },
    {
     "data": {
      "text/plain": [
       "False    441\n",
       "Name: pop25to64, dtype: int64"
      ]
     },
     "metadata": {},
     "output_type": "display_data"
    },
    {
     "name": "stdout",
     "output_type": "stream",
     "text": [
      "\n"
     ]
    },
    {
     "data": {
      "text/plain": [
       "False    441\n",
       "Name: pop65over, dtype: int64"
      ]
     },
     "metadata": {},
     "output_type": "display_data"
    },
    {
     "name": "stdout",
     "output_type": "stream",
     "text": [
      "\n"
     ]
    },
    {
     "data": {
      "text/plain": [
       "False    350\n",
       "True      91\n",
       "Name: hivPct, dtype: int64"
      ]
     },
     "metadata": {},
     "output_type": "display_data"
    },
    {
     "name": "stdout",
     "output_type": "stream",
     "text": [
      "\n"
     ]
    },
    {
     "data": {
      "text/plain": [
       "True     312\n",
       "False    129\n",
       "Name: povertyRatio, dtype: int64"
      ]
     },
     "metadata": {},
     "output_type": "display_data"
    },
    {
     "name": "stdout",
     "output_type": "stream",
     "text": [
      "\n"
     ]
    },
    {
     "data": {
      "text/plain": [
       "False    441\n",
       "Name: totalPop, dtype: int64"
      ]
     },
     "metadata": {},
     "output_type": "display_data"
    },
    {
     "name": "stdout",
     "output_type": "stream",
     "text": [
      "\n"
     ]
    },
    {
     "data": {
      "text/plain": [
       "False    441\n",
       "Name: happinessScore, dtype: int64"
      ]
     },
     "metadata": {},
     "output_type": "display_data"
    },
    {
     "name": "stdout",
     "output_type": "stream",
     "text": [
      "\n"
     ]
    }
   ],
   "source": [
    "for col in df_unesco_train:\n",
    "    display((df_unesco_train[col] == 0).value_counts())\n",
    "    print()\n",
    "            \n",
    "# display(pd.isnull(df_unesco_train[col].value_counts())\n",
    "# print()"
   ]
  },
  {
   "cell_type": "code",
   "execution_count": 55,
   "metadata": {},
   "outputs": [
    {
     "data": {
      "text/plain": [
       "False    441\n",
       "Name: Country, dtype: int64"
      ]
     },
     "metadata": {},
     "output_type": "display_data"
    },
    {
     "name": "stdout",
     "output_type": "stream",
     "text": [
      "\n"
     ]
    },
    {
     "data": {
      "text/plain": [
       "False    441\n",
       "Name: Year, dtype: int64"
      ]
     },
     "metadata": {},
     "output_type": "display_data"
    },
    {
     "name": "stdout",
     "output_type": "stream",
     "text": [
      "\n"
     ]
    },
    {
     "data": {
      "text/plain": [
       "False    441\n",
       "Name: fertilityRate, dtype: int64"
      ]
     },
     "metadata": {},
     "output_type": "display_data"
    },
    {
     "name": "stdout",
     "output_type": "stream",
     "text": [
      "\n"
     ]
    },
    {
     "data": {
      "text/plain": [
       "False    441\n",
       "Name: lifeExpectancy, dtype: int64"
      ]
     },
     "metadata": {},
     "output_type": "display_data"
    },
    {
     "name": "stdout",
     "output_type": "stream",
     "text": [
      "\n"
     ]
    },
    {
     "data": {
      "text/plain": [
       "False    441\n",
       "Name: mortalityRate, dtype: int64"
      ]
     },
     "metadata": {},
     "output_type": "display_data"
    },
    {
     "name": "stdout",
     "output_type": "stream",
     "text": [
      "\n"
     ]
    },
    {
     "data": {
      "text/plain": [
       "False    441\n",
       "Name: popGrowth, dtype: int64"
      ]
     },
     "metadata": {},
     "output_type": "display_data"
    },
    {
     "name": "stdout",
     "output_type": "stream",
     "text": [
      "\n"
     ]
    },
    {
     "data": {
      "text/plain": [
       "False    433\n",
       "True       8\n",
       "Name: ruralPopPct, dtype: int64"
      ]
     },
     "metadata": {},
     "output_type": "display_data"
    },
    {
     "name": "stdout",
     "output_type": "stream",
     "text": [
      "\n"
     ]
    },
    {
     "data": {
      "text/plain": [
       "False    440\n",
       "True       1\n",
       "Name: gdpGrowthPct, dtype: int64"
      ]
     },
     "metadata": {},
     "output_type": "display_data"
    },
    {
     "name": "stdout",
     "output_type": "stream",
     "text": [
      "\n"
     ]
    },
    {
     "data": {
      "text/plain": [
       "False    441\n",
       "Name: gdpUS, dtype: int64"
      ]
     },
     "metadata": {},
     "output_type": "display_data"
    },
    {
     "name": "stdout",
     "output_type": "stream",
     "text": [
      "\n"
     ]
    },
    {
     "data": {
      "text/plain": [
       "False    441\n",
       "Name: gdpPerCapitaUS, dtype: int64"
      ]
     },
     "metadata": {},
     "output_type": "display_data"
    },
    {
     "name": "stdout",
     "output_type": "stream",
     "text": [
      "\n"
     ]
    },
    {
     "data": {
      "text/plain": [
       "False    441\n",
       "Name: gdpPerCapita ppp, dtype: int64"
      ]
     },
     "metadata": {},
     "output_type": "display_data"
    },
    {
     "name": "stdout",
     "output_type": "stream",
     "text": [
      "\n"
     ]
    },
    {
     "data": {
      "text/plain": [
       "False    441\n",
       "Name: gdp pppInternational, dtype: int64"
      ]
     },
     "metadata": {},
     "output_type": "display_data"
    },
    {
     "name": "stdout",
     "output_type": "stream",
     "text": [
      "\n"
     ]
    },
    {
     "data": {
      "text/plain": [
       "False    441\n",
       "Name: gni, dtype: int64"
      ]
     },
     "metadata": {},
     "output_type": "display_data"
    },
    {
     "name": "stdout",
     "output_type": "stream",
     "text": [
      "\n"
     ]
    },
    {
     "data": {
      "text/plain": [
       "False    441\n",
       "Name: gniPerCapita, dtype: int64"
      ]
     },
     "metadata": {},
     "output_type": "display_data"
    },
    {
     "name": "stdout",
     "output_type": "stream",
     "text": [
      "\n"
     ]
    },
    {
     "data": {
      "text/plain": [
       "False    441\n",
       "Name: gniPerCapita ppp, dtype: int64"
      ]
     },
     "metadata": {},
     "output_type": "display_data"
    },
    {
     "name": "stdout",
     "output_type": "stream",
     "text": [
      "\n"
     ]
    },
    {
     "data": {
      "text/plain": [
       "False    441\n",
       "Name: pop14under, dtype: int64"
      ]
     },
     "metadata": {},
     "output_type": "display_data"
    },
    {
     "name": "stdout",
     "output_type": "stream",
     "text": [
      "\n"
     ]
    },
    {
     "data": {
      "text/plain": [
       "False    441\n",
       "Name: pop15to24, dtype: int64"
      ]
     },
     "metadata": {},
     "output_type": "display_data"
    },
    {
     "name": "stdout",
     "output_type": "stream",
     "text": [
      "\n"
     ]
    },
    {
     "data": {
      "text/plain": [
       "False    441\n",
       "Name: pop25to64, dtype: int64"
      ]
     },
     "metadata": {},
     "output_type": "display_data"
    },
    {
     "name": "stdout",
     "output_type": "stream",
     "text": [
      "\n"
     ]
    },
    {
     "data": {
      "text/plain": [
       "False    441\n",
       "Name: pop65over, dtype: int64"
      ]
     },
     "metadata": {},
     "output_type": "display_data"
    },
    {
     "name": "stdout",
     "output_type": "stream",
     "text": [
      "\n"
     ]
    },
    {
     "data": {
      "text/plain": [
       "False    441\n",
       "Name: hivPct, dtype: int64"
      ]
     },
     "metadata": {},
     "output_type": "display_data"
    },
    {
     "name": "stdout",
     "output_type": "stream",
     "text": [
      "\n"
     ]
    },
    {
     "data": {
      "text/plain": [
       "False    417\n",
       "True      24\n",
       "Name: povertyRatio, dtype: int64"
      ]
     },
     "metadata": {},
     "output_type": "display_data"
    },
    {
     "name": "stdout",
     "output_type": "stream",
     "text": [
      "\n"
     ]
    },
    {
     "data": {
      "text/plain": [
       "False    441\n",
       "Name: totalPop, dtype: int64"
      ]
     },
     "metadata": {},
     "output_type": "display_data"
    },
    {
     "name": "stdout",
     "output_type": "stream",
     "text": [
      "\n"
     ]
    },
    {
     "data": {
      "text/plain": [
       "False    441\n",
       "Name: happinessScore, dtype: int64"
      ]
     },
     "metadata": {},
     "output_type": "display_data"
    },
    {
     "name": "stdout",
     "output_type": "stream",
     "text": [
      "\n"
     ]
    }
   ],
   "source": [
    "for col in df_unesco_train:\n",
    "    display(pd.isnull(df_unesco_train[col]).value_counts())\n",
    "    print()\n"
   ]
  },
  {
   "cell_type": "code",
   "execution_count": null,
   "metadata": {},
   "outputs": [],
   "source": []
  }
 ],
 "metadata": {
  "colab": {
   "collapsed_sections": [],
   "name": "466_week2.ipynb",
   "provenance": []
  },
  "kernelspec": {
   "display_name": "Python 3",
   "language": "python",
   "name": "python3"
  },
  "language_info": {
   "codemirror_mode": {
    "name": "ipython",
    "version": 3
   },
   "file_extension": ".py",
   "mimetype": "text/x-python",
   "name": "python",
   "nbconvert_exporter": "python",
   "pygments_lexer": "ipython3",
   "version": "3.7.3"
  }
 },
 "nbformat": 4,
 "nbformat_minor": 4
}
