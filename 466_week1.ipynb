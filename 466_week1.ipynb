{
 "cells": [
  {
   "cell_type": "markdown",
   "metadata": {
    "colab_type": "text",
    "id": "ZlIJl9Vg5YYv"
   },
   "source": [
    "JULIAN DAVIS' CONTRIBUTIONS WEEK 1 (found below)"
   ]
  },
  {
   "cell_type": "markdown",
   "metadata": {
    "colab_type": "text",
    "id": "_xJTvmGTDshk"
   },
   "source": [
    "First, I read in datasets.\n",
    "\n",
    "The first dataframe contains country information on demographic and socio-economic.\n",
    "\n",
    "The second dataframe is compiled form 5 different csv (where each csv represented a different year).  The final dataframe maps countries to their happiness score (for years 2015 to 2019)."
   ]
  },
  {
   "cell_type": "code",
   "execution_count": 16,
   "metadata": {
    "colab": {},
    "colab_type": "code",
    "id": "awomH99LHpk6"
   },
   "outputs": [],
   "source": [
    "import pandas as pd\n",
    "\n",
    "df_unesco = pd.read_csv(\"https://raw.githubusercontent.com/erib3/unesco_data/master/DEMO_DS_29112019163028002.csv\")\n",
    "\n",
    "data_dir = \"https://raw.githubusercontent.com/juliandavis7/301/master/\"\n",
    "\n",
    "df_2015 = pd.read_csv(data_dir + \"2015.csv\")\n",
    "df_2016 = pd.read_csv(data_dir + \"2016.csv\")\n",
    "df_2017 = pd.read_csv(data_dir + \"2017.csv\")\n",
    "df_2018 = pd.read_csv(data_dir + \"2018.csv\")\n",
    "df_2019 = pd.read_csv(data_dir + \"2019.csv\")\n",
    "df_2015 = df_2015[[\"Country\", \"Happiness Score\"]]\n",
    "df_2016 = df_2016[[\"Country\", \"Happiness Score\"]]\n",
    "df_2017 = df_2017[[\"Country\", \"Happiness.Score\"]]\n",
    "df_2018 = df_2018[[\"Country or region\", \"Score\"]]\n",
    "df_2019 = df_2019[[\"Country or region\", \"Score\"]]\n",
    "\n",
    "df_2017.rename(columns=\n",
    "        {\"Happiness.Score\": \"Happiness Score\"}, \n",
    "        inplace=True)\n",
    "df_2018.rename(columns=\n",
    "        {\"Country or region\": \"Country\", \"Score\": \"Happiness Score\"},\n",
    "        inplace=True)\n",
    "df_2019.rename(columns=\n",
    "        {\"Country or region\": \"Country\", \"Score\": \"Happiness Score\"},\n",
    "        inplace=True)\n",
    "\n",
    "df_2015[\"Year\"] = 2015\n",
    "df_2016[\"Year\"] = 2016\n",
    "df_2017[\"Year\"] = 2017\n",
    "df_2018[\"Year\"] = 2018\n",
    "df_2019[\"Year\"] = 2019\n",
    "\n",
    "df_hap = pd.concat([df_2015, df_2016, df_2017, df_2018, df_2019])\n",
    "df_hap.reset_index(drop=True, inplace=True)"
   ]
  },
  {
   "cell_type": "code",
   "execution_count": 25,
   "metadata": {},
   "outputs": [
    {
     "data": {
      "text/plain": [
       "233"
      ]
     },
     "execution_count": 25,
     "metadata": {},
     "output_type": "execute_result"
    }
   ],
   "source": [
    "len(df_unesco[\"Country\"].unique())"
   ]
  },
  {
   "cell_type": "code",
   "execution_count": 26,
   "metadata": {},
   "outputs": [
    {
     "data": {
      "text/plain": [
       "170"
      ]
     },
     "execution_count": 26,
     "metadata": {},
     "output_type": "execute_result"
    }
   ],
   "source": [
    "len(df_hap[\"Country\"].unique())"
   ]
  },
  {
   "cell_type": "markdown",
   "metadata": {
    "colab_type": "text",
    "id": "apZGa6tfE-Yq"
   },
   "source": [
    "After reading in the data, we have to clean and reorganize the data.  I started by choosing for the indicators that we wanted to investigate further (and the ones that we though might be correlated with happiness)."
   ]
  },
  {
   "cell_type": "code",
   "execution_count": 17,
   "metadata": {
    "colab": {},
    "colab_type": "code",
    "id": "tM_AgDPupgGW"
   },
   "outputs": [],
   "source": [
    "indicators = [\"Fertility rate, total (births per woman)\",\n",
    "              \"Life expectancy at birth, total (years)\",\n",
    "              \"Mortality rate, infant (per 1,000 live births)\",\n",
    "              \"Population growth (annual %)\",\n",
    "              \"Rural population (% of total population)\",\n",
    "              \"GDP growth (annual %)\",\n",
    "              \"GDP (current US$)\",\n",
    "              \"GDP per capita (current US$)\",\n",
    "              \"GDP per capita, PPP (current international $)\",\n",
    "              \"GDP, PPP (current international $)\",\n",
    "              \"GNI (current LCU)\",\n",
    "              \"GNI per capita, Atlas method (current US$)\",\n",
    "              \"GNI per capita, PPP (current international $)\",\n",
    "              \"Population aged 14 years or younger \",\n",
    "              \"Population aged 15-24 years \",\n",
    "              \"Population aged 25-64 years \",\n",
    "              \"Population aged 65 years or older \",\n",
    "              \"Prevalence of HIV, total (% of population ages 15-49)\",\n",
    "              \"Poverty headcount ratio at $1.90 a day (PPP) (% of population)\",\n",
    "              \"Total population \"]\n",
    "#Comparing GNI to GDP shows the degree to which a nation's GDP represents domestic or international activity."
   ]
  },
  {
   "cell_type": "markdown",
   "metadata": {
    "colab_type": "text",
    "id": "BePGJ4HyFnYR"
   },
   "source": [
    "Oddly, the indicator data was stored in row format.  In this cell, we reorganize the dataframe such that each distinct row (observation) is a given country in a given year."
   ]
  },
  {
   "cell_type": "code",
   "execution_count": 18,
   "metadata": {
    "colab": {
     "base_uri": "https://localhost:8080/",
     "height": 496
    },
    "colab_type": "code",
    "id": "SKiWo0vr2G2p",
    "outputId": "3965644c-acb1-4919-856d-5e42e739607f"
   },
   "outputs": [
    {
     "name": "stdout",
     "output_type": "stream",
     "text": [
      "DEMO_IND       object\n",
      "Indicator      object\n",
      "LOCATION       object\n",
      "Country        object\n",
      "TIME            int64\n",
      "Time            int64\n",
      "Value         float64\n",
      "Flag Codes     object\n",
      "Flags          object\n",
      "dtype: object\n"
     ]
    },
    {
     "data": {
      "text/html": [
       "<div>\n",
       "<style scoped>\n",
       "    .dataframe tbody tr th:only-of-type {\n",
       "        vertical-align: middle;\n",
       "    }\n",
       "\n",
       "    .dataframe tbody tr th {\n",
       "        vertical-align: top;\n",
       "    }\n",
       "\n",
       "    .dataframe thead th {\n",
       "        text-align: right;\n",
       "    }\n",
       "</style>\n",
       "<table border=\"1\" class=\"dataframe\">\n",
       "  <thead>\n",
       "    <tr style=\"text-align: right;\">\n",
       "      <th></th>\n",
       "      <th>DEMO_IND</th>\n",
       "      <th>LOCATION</th>\n",
       "      <th>Country</th>\n",
       "      <th>TIME</th>\n",
       "      <th>Time</th>\n",
       "      <th>Value</th>\n",
       "      <th>Flag Codes</th>\n",
       "      <th>Flags</th>\n",
       "      <th>Fertility rate, total (births per woman)</th>\n",
       "      <th>Life expectancy at birth, total (years)</th>\n",
       "      <th>...</th>\n",
       "      <th>GNI (current LCU)</th>\n",
       "      <th>GNI per capita, Atlas method (current US$)</th>\n",
       "      <th>GNI per capita, PPP (current international $)</th>\n",
       "      <th>Population aged 14 years or younger</th>\n",
       "      <th>Population aged 15-24 years</th>\n",
       "      <th>Population aged 25-64 years</th>\n",
       "      <th>Population aged 65 years or older</th>\n",
       "      <th>Prevalence of HIV, total (% of population ages 15-49)</th>\n",
       "      <th>Poverty headcount ratio at $1.90 a day (PPP) (% of population)</th>\n",
       "      <th>Total population</th>\n",
       "    </tr>\n",
       "  </thead>\n",
       "  <tbody>\n",
       "    <tr>\n",
       "      <td>186335</td>\n",
       "      <td>NY_GDP_PCAP_CN</td>\n",
       "      <td>CAN</td>\n",
       "      <td>Canada</td>\n",
       "      <td>1970</td>\n",
       "      <td>1970</td>\n",
       "      <td>4307.00759</td>\n",
       "      <td>NaN</td>\n",
       "      <td>NaN</td>\n",
       "      <td>2.258</td>\n",
       "      <td>72.70049</td>\n",
       "      <td>...</td>\n",
       "      <td>9.049216e+10</td>\n",
       "      <td>3970.0</td>\n",
       "      <td>0.0</td>\n",
       "      <td>6440.147</td>\n",
       "      <td>3925.468</td>\n",
       "      <td>9293.993</td>\n",
       "      <td>1714.718</td>\n",
       "      <td>0.0</td>\n",
       "      <td>0.0</td>\n",
       "      <td>21374.326</td>\n",
       "    </tr>\n",
       "    <tr>\n",
       "      <td>186336</td>\n",
       "      <td>NY_GDP_PCAP_CN</td>\n",
       "      <td>CAN</td>\n",
       "      <td>Canada</td>\n",
       "      <td>1971</td>\n",
       "      <td>1971</td>\n",
       "      <td>4631.20116</td>\n",
       "      <td>NaN</td>\n",
       "      <td>NaN</td>\n",
       "      <td>2.141</td>\n",
       "      <td>73.02927</td>\n",
       "      <td>...</td>\n",
       "      <td>9.877660e+10</td>\n",
       "      <td>4390.0</td>\n",
       "      <td>0.0</td>\n",
       "      <td>6358.735</td>\n",
       "      <td>4079.901</td>\n",
       "      <td>9521.813</td>\n",
       "      <td>1763.011</td>\n",
       "      <td>0.0</td>\n",
       "      <td>0.0</td>\n",
       "      <td>21723.460</td>\n",
       "    </tr>\n",
       "    <tr>\n",
       "      <td>186337</td>\n",
       "      <td>NY_GDP_PCAP_CN</td>\n",
       "      <td>CAN</td>\n",
       "      <td>Canada</td>\n",
       "      <td>1972</td>\n",
       "      <td>1972</td>\n",
       "      <td>5089.68640</td>\n",
       "      <td>NaN</td>\n",
       "      <td>NaN</td>\n",
       "      <td>1.980</td>\n",
       "      <td>72.93390</td>\n",
       "      <td>...</td>\n",
       "      <td>1.104571e+11</td>\n",
       "      <td>5050.0</td>\n",
       "      <td>0.0</td>\n",
       "      <td>6290.521</td>\n",
       "      <td>4213.894</td>\n",
       "      <td>9758.405</td>\n",
       "      <td>1809.374</td>\n",
       "      <td>0.0</td>\n",
       "      <td>0.0</td>\n",
       "      <td>22072.194</td>\n",
       "    </tr>\n",
       "    <tr>\n",
       "      <td>186338</td>\n",
       "      <td>NY_GDP_PCAP_CN</td>\n",
       "      <td>CAN</td>\n",
       "      <td>Canada</td>\n",
       "      <td>1973</td>\n",
       "      <td>1973</td>\n",
       "      <td>5871.18762</td>\n",
       "      <td>NaN</td>\n",
       "      <td>NaN</td>\n",
       "      <td>1.890</td>\n",
       "      <td>73.16268</td>\n",
       "      <td>...</td>\n",
       "      <td>1.295094e+11</td>\n",
       "      <td>6060.0</td>\n",
       "      <td>0.0</td>\n",
       "      <td>6223.796</td>\n",
       "      <td>4328.185</td>\n",
       "      <td>10007.184</td>\n",
       "      <td>1856.157</td>\n",
       "      <td>0.0</td>\n",
       "      <td>0.0</td>\n",
       "      <td>22415.322</td>\n",
       "    </tr>\n",
       "    <tr>\n",
       "      <td>186339</td>\n",
       "      <td>NY_GDP_PCAP_CN</td>\n",
       "      <td>CAN</td>\n",
       "      <td>Canada</td>\n",
       "      <td>1974</td>\n",
       "      <td>1974</td>\n",
       "      <td>6888.51792</td>\n",
       "      <td>NaN</td>\n",
       "      <td>NaN</td>\n",
       "      <td>1.837</td>\n",
       "      <td>73.23756</td>\n",
       "      <td>...</td>\n",
       "      <td>1.545532e+11</td>\n",
       "      <td>7190.0</td>\n",
       "      <td>0.0</td>\n",
       "      <td>6140.715</td>\n",
       "      <td>4428.317</td>\n",
       "      <td>10270.428</td>\n",
       "      <td>1906.443</td>\n",
       "      <td>0.0</td>\n",
       "      <td>0.0</td>\n",
       "      <td>22745.903</td>\n",
       "    </tr>\n",
       "  </tbody>\n",
       "</table>\n",
       "<p>5 rows × 28 columns</p>\n",
       "</div>"
      ],
      "text/plain": [
       "              DEMO_IND LOCATION Country  TIME  Time       Value Flag Codes  \\\n",
       "186335  NY_GDP_PCAP_CN      CAN  Canada  1970  1970  4307.00759        NaN   \n",
       "186336  NY_GDP_PCAP_CN      CAN  Canada  1971  1971  4631.20116        NaN   \n",
       "186337  NY_GDP_PCAP_CN      CAN  Canada  1972  1972  5089.68640        NaN   \n",
       "186338  NY_GDP_PCAP_CN      CAN  Canada  1973  1973  5871.18762        NaN   \n",
       "186339  NY_GDP_PCAP_CN      CAN  Canada  1974  1974  6888.51792        NaN   \n",
       "\n",
       "       Flags  Fertility rate, total (births per woman)  \\\n",
       "186335   NaN                                     2.258   \n",
       "186336   NaN                                     2.141   \n",
       "186337   NaN                                     1.980   \n",
       "186338   NaN                                     1.890   \n",
       "186339   NaN                                     1.837   \n",
       "\n",
       "        Life expectancy at birth, total (years)  ...  GNI (current LCU)  \\\n",
       "186335                                 72.70049  ...       9.049216e+10   \n",
       "186336                                 73.02927  ...       9.877660e+10   \n",
       "186337                                 72.93390  ...       1.104571e+11   \n",
       "186338                                 73.16268  ...       1.295094e+11   \n",
       "186339                                 73.23756  ...       1.545532e+11   \n",
       "\n",
       "        GNI per capita, Atlas method (current US$)  \\\n",
       "186335                                      3970.0   \n",
       "186336                                      4390.0   \n",
       "186337                                      5050.0   \n",
       "186338                                      6060.0   \n",
       "186339                                      7190.0   \n",
       "\n",
       "        GNI per capita, PPP (current international $)  \\\n",
       "186335                                            0.0   \n",
       "186336                                            0.0   \n",
       "186337                                            0.0   \n",
       "186338                                            0.0   \n",
       "186339                                            0.0   \n",
       "\n",
       "        Population aged 14 years or younger   Population aged 15-24 years   \\\n",
       "186335                              6440.147                      3925.468   \n",
       "186336                              6358.735                      4079.901   \n",
       "186337                              6290.521                      4213.894   \n",
       "186338                              6223.796                      4328.185   \n",
       "186339                              6140.715                      4428.317   \n",
       "\n",
       "        Population aged 25-64 years   Population aged 65 years or older   \\\n",
       "186335                      9293.993                            1714.718   \n",
       "186336                      9521.813                            1763.011   \n",
       "186337                      9758.405                            1809.374   \n",
       "186338                     10007.184                            1856.157   \n",
       "186339                     10270.428                            1906.443   \n",
       "\n",
       "        Prevalence of HIV, total (% of population ages 15-49)  \\\n",
       "186335                                                0.0       \n",
       "186336                                                0.0       \n",
       "186337                                                0.0       \n",
       "186338                                                0.0       \n",
       "186339                                                0.0       \n",
       "\n",
       "        Poverty headcount ratio at $1.90 a day (PPP) (% of population)  \\\n",
       "186335                                                0.0                \n",
       "186336                                                0.0                \n",
       "186337                                                0.0                \n",
       "186338                                                0.0                \n",
       "186339                                                0.0                \n",
       "\n",
       "        Total population   \n",
       "186335          21374.326  \n",
       "186336          21723.460  \n",
       "186337          22072.194  \n",
       "186338          22415.322  \n",
       "186339          22745.903  \n",
       "\n",
       "[5 rows x 28 columns]"
      ]
     },
     "execution_count": 18,
     "metadata": {},
     "output_type": "execute_result"
    }
   ],
   "source": [
    "#new df with just one country and time match...\n",
    "print(df_unesco.dtypes)\n",
    "# we want this to have unique country and time values\n",
    "# how long it take? 1970 -> 2019 * num indicators * num countries\n",
    "# get all rows that match on country and time\n",
    "final_df = df_unesco.copy()\n",
    "\n",
    "num_unique_indicators = len(final_df[\"Indicator\"].unique())\n",
    "unique_indicators = final_df[\"Indicator\"].unique()\n",
    "for i in range(num_unique_indicators-1):\n",
    "  final_df = final_df[final_df[\"Indicator\"] != unique_indicators[i]]\n",
    "\n",
    "final_df = final_df.drop(['Indicator'], axis=1)\n",
    "for indicator in indicators:\n",
    "  final_df[indicator] = 0\n",
    "  final_df[indicator] = final_df[indicator].astype(float)\n",
    "\n",
    "for country in df_unesco['Country'].unique():\n",
    "  for year in df_unesco['Time'].unique():\n",
    "    date_country_matches = df_unesco[(df_unesco.Country == country) & (df_unesco.Time == year)]\n",
    "    # we need to use each indicator value here to construct the new single row\n",
    "    for i, row in date_country_matches.iterrows():\n",
    "      # matching on country, year set final_df indicator value for this row\n",
    "      # check if row[indicator] is one that we want\n",
    "      current_indicator = row.Indicator\n",
    "      if current_indicator in indicators:\n",
    "        #set final df at same year and country at row_indicator to value\n",
    "        final_df.loc[(final_df.Time == row.Time) & (final_df.Country == row.Country), current_indicator] = row.Value\n",
    "final_df.head()\n",
    "#then we can merge with df_hap"
   ]
  },
  {
   "cell_type": "code",
   "execution_count": 19,
   "metadata": {
    "colab": {},
    "colab_type": "code",
    "id": "tN1cNmg2_tpt"
   },
   "outputs": [],
   "source": [
    "df_final = final_df.copy()"
   ]
  },
  {
   "cell_type": "markdown",
   "metadata": {
    "colab_type": "text",
    "id": "Y-uIKLxEH2r6"
   },
   "source": [
    "We elected to rename the features just to make the dataframe look simpler and cleaner. "
   ]
  },
  {
   "cell_type": "code",
   "execution_count": 20,
   "metadata": {
    "colab": {},
    "colab_type": "code",
    "id": "8dxsateW_lG-"
   },
   "outputs": [],
   "source": [
    "df_final = (df_final[[\"Country\", \"Time\"] + indicators]).copy()\n",
    "df_final.rename(columns={\"Time\": \"Year\",\n",
    "                         \"Fertility rate, total (births per woman)\": \"fertilityRate\",\n",
    "                         \"Life expectancy at birth, total (years)\": \"lifeExpectancy\",\n",
    "                         \"Mortality rate, infant (per 1,000 live births)\": \"mortalityRate\",\n",
    "                         \"Population growth (annual %)\": \"popGrowth\",\n",
    "                         \"Rural population (% of total population)\": \"ruralPopPct\",\n",
    "                         \"GDP growth (annual %)\": \"gdpGrowthPct\",\n",
    "                         \"GDP (current US$)\": \"gdpUS\",\n",
    "                         \"GDP per capita (current US$)\": \"gdpPerCapitaUS\",\n",
    "                         \"GDP per capita, PPP (current international $)\": \"gdpPerCapita ppp\",\n",
    "                         \"GDP, PPP (current international $)\": \"gdp pppInternational\",\n",
    "                         \"GNI (current LCU)\": \"gni\",\n",
    "                         \"GNI per capita, Atlas method (current US$)\": \"gniPerCapita\",\n",
    "                         \"GNI per capita, PPP (current international $)\": \"gniPerCapita ppp\",\n",
    "                         \"Population aged 14 years or younger \": \"pop14under\",\n",
    "                         \"Population aged 15-24 years \": \"pop15to24\",\n",
    "                         \"Population aged 25-64 years \": \"pop25to64\",\n",
    "                         \"Population aged 65 years or older \": \"pop65over\",\n",
    "                         \"Prevalence of HIV, total (% of population ages 15-49)\": \"hivPct\",\n",
    "                         \"Poverty headcount ratio at $1.90 a day (PPP) (% of population)\": \"povertyRatio\",\n",
    "                         \"Total population \": \"totalPop\"},\n",
    "                inplace=True\n",
    "                )"
   ]
  },
  {
   "cell_type": "code",
   "execution_count": 21,
   "metadata": {},
   "outputs": [],
   "source": [
    "df = df_final.copy()"
   ]
  },
  {
   "cell_type": "code",
   "execution_count": 27,
   "metadata": {},
   "outputs": [
    {
     "data": {
      "text/plain": [
       "212"
      ]
     },
     "execution_count": 27,
     "metadata": {},
     "output_type": "execute_result"
    }
   ],
   "source": [
    "len(df[\"Country\"].unique())"
   ]
  },
  {
   "cell_type": "markdown",
   "metadata": {
    "colab_type": "text",
    "id": "g6A9Wu9dIFAg"
   },
   "source": [
    "We noticed that a lot of countries had a lot of slighly different naming conventions.  This cell properly realligns all country namings so that the two dataframes, the unesco dataframe and the happiness dataframe, can be merged effectively."
   ]
  },
  {
   "cell_type": "code",
   "execution_count": 23,
   "metadata": {
    "colab": {},
    "colab_type": "code",
    "id": "LE04EOSIDnBm"
   },
   "outputs": [],
   "source": [
    "for i, row in df_hap.iterrows():\n",
    "  if df_hap.at[i, \"Country\"] == \"United States\":\n",
    "    df_hap.at[i, \"Country\"] = \"United States of America\"\n",
    "  # need to do for all countries that don't allign\n",
    "\n",
    "df_combined = df_final.merge(df_hap, on=[\"Country\", \"Year\"])"
   ]
  },
  {
   "cell_type": "code",
   "execution_count": 28,
   "metadata": {},
   "outputs": [
    {
     "data": {
      "text/plain": [
       "212"
      ]
     },
     "execution_count": 28,
     "metadata": {},
     "output_type": "execute_result"
    }
   ],
   "source": [
    "len(df_final[\"Country\"].unique())"
   ]
  },
  {
   "cell_type": "markdown",
   "metadata": {
    "colab_type": "text",
    "id": "8XKYQaGEIjg0"
   },
   "source": [
    "Finally, we saved and downlaoded the two csv's below to avoid having to re-run somewhat expensive data cleaning steps.  \n",
    "- \"unesco.csv\" is a csv where each observation is a country in a given year, for years 1970-2019.\n",
    "- \"unesco_train.csv\" is a csv where each observation is a country in a given year, for years 2015-2019.  Additionally, a happiness score is associated with each observation."
   ]
  },
  {
   "cell_type": "code",
   "execution_count": null,
   "metadata": {
    "colab": {},
    "colab_type": "code",
    "id": "1KDS-Q9gFZx1"
   },
   "outputs": [],
   "source": [
    "df_hap.to_csv(\"happiness.csv\", index=False)\n",
    "df_final.to_csv(\"unesco.csv\", index=False)\n",
    "df_combined.to_csv(\"unesco_train.csv\", index=False)\n",
    "#upload files to .csv"
   ]
  },
  {
   "cell_type": "markdown",
   "metadata": {
    "colab_type": "text",
    "id": "pAmAdq2qYCbm"
   },
   "source": [
    "Changing Happiness Score to whole number"
   ]
  },
  {
   "cell_type": "code",
   "execution_count": null,
   "metadata": {
    "colab": {},
    "colab_type": "code",
    "id": "UzX6_qSdYFAw"
   },
   "outputs": [],
   "source": [
    "import numpy as np\n",
    "df_countries.loc[:,'Happiness Score']=df_countries['Happiness Score'].apply(np.round)\n"
   ]
  },
  {
   "cell_type": "markdown",
   "metadata": {
    "colab_type": "text",
    "id": "2joKwW2nn1rA"
   },
   "source": [
    "Using Naive Bayes Algorithm\n"
   ]
  },
  {
   "cell_type": "code",
   "execution_count": null,
   "metadata": {
    "colab": {
     "base_uri": "https://localhost:8080/",
     "height": 374
    },
    "colab_type": "code",
    "id": "HYhoKG0Tv4GU",
    "outputId": "f79778de-6bdd-44f4-c3eb-416408ff34da"
   },
   "outputs": [
    {
     "ename": "ValueError",
     "evalue": "ignored",
     "output_type": "error",
     "traceback": [
      "\u001b[0;31m---------------------------------------------------------------------------\u001b[0m",
      "\u001b[0;31mValueError\u001b[0m                                Traceback (most recent call last)",
      "\u001b[0;32m<ipython-input-8-9e769541c4aa>\u001b[0m in \u001b[0;36m<module>\u001b[0;34m()\u001b[0m\n\u001b[1;32m     13\u001b[0m \u001b[0;31m# display(X_train)\u001b[0m\u001b[0;34m\u001b[0m\u001b[0;34m\u001b[0m\u001b[0;34m\u001b[0m\u001b[0m\n\u001b[1;32m     14\u001b[0m \u001b[0;31m# display(y_train)\u001b[0m\u001b[0;34m\u001b[0m\u001b[0;34m\u001b[0m\u001b[0;34m\u001b[0m\u001b[0m\n\u001b[0;32m---> 15\u001b[0;31m \u001b[0my_pred\u001b[0m \u001b[0;34m=\u001b[0m \u001b[0mgnb\u001b[0m\u001b[0;34m.\u001b[0m\u001b[0mfit\u001b[0m\u001b[0;34m(\u001b[0m\u001b[0mX_train\u001b[0m\u001b[0;34m,\u001b[0m \u001b[0my_train\u001b[0m\u001b[0;34m)\u001b[0m\u001b[0;34m.\u001b[0m\u001b[0mpredict\u001b[0m\u001b[0;34m(\u001b[0m\u001b[0mX_test\u001b[0m\u001b[0;34m)\u001b[0m\u001b[0;34m\u001b[0m\u001b[0;34m\u001b[0m\u001b[0m\n\u001b[0m\u001b[1;32m     16\u001b[0m \u001b[0maccuracy\u001b[0m \u001b[0;34m=\u001b[0m \u001b[0;34m(\u001b[0m\u001b[0my_test\u001b[0m \u001b[0;34m==\u001b[0m \u001b[0my_pred\u001b[0m\u001b[0;34m)\u001b[0m\u001b[0;34m.\u001b[0m\u001b[0msum\u001b[0m\u001b[0;34m(\u001b[0m\u001b[0;34m)\u001b[0m \u001b[0;34m/\u001b[0m \u001b[0mlen\u001b[0m\u001b[0;34m(\u001b[0m\u001b[0my_test\u001b[0m\u001b[0;34m)\u001b[0m\u001b[0;34m\u001b[0m\u001b[0;34m\u001b[0m\u001b[0m\n\u001b[1;32m     17\u001b[0m \u001b[0mprint\u001b[0m\u001b[0;34m(\u001b[0m\u001b[0;34m\"%d / %d correct Happiness Score predictions\"\u001b[0m \u001b[0;34m%\u001b[0m \u001b[0;34m(\u001b[0m\u001b[0;34m(\u001b[0m\u001b[0my_test\u001b[0m \u001b[0;34m==\u001b[0m \u001b[0my_pred\u001b[0m\u001b[0;34m)\u001b[0m\u001b[0;34m.\u001b[0m\u001b[0msum\u001b[0m\u001b[0;34m(\u001b[0m\u001b[0;34m)\u001b[0m\u001b[0;34m,\u001b[0m \u001b[0mX_test\u001b[0m\u001b[0;34m.\u001b[0m\u001b[0mshape\u001b[0m\u001b[0;34m[\u001b[0m\u001b[0;36m0\u001b[0m\u001b[0;34m]\u001b[0m\u001b[0;34m)\u001b[0m\u001b[0;34m)\u001b[0m\u001b[0;34m\u001b[0m\u001b[0;34m\u001b[0m\u001b[0m\n",
      "\u001b[0;32m/usr/local/lib/python3.6/dist-packages/sklearn/naive_bayes.py\u001b[0m in \u001b[0;36mfit\u001b[0;34m(self, X, y, sample_weight)\u001b[0m\n\u001b[1;32m    206\u001b[0m         \u001b[0my\u001b[0m \u001b[0;34m=\u001b[0m \u001b[0mcolumn_or_1d\u001b[0m\u001b[0;34m(\u001b[0m\u001b[0my\u001b[0m\u001b[0;34m,\u001b[0m \u001b[0mwarn\u001b[0m\u001b[0;34m=\u001b[0m\u001b[0;32mTrue\u001b[0m\u001b[0;34m)\u001b[0m\u001b[0;34m\u001b[0m\u001b[0;34m\u001b[0m\u001b[0m\n\u001b[1;32m    207\u001b[0m         return self._partial_fit(X, y, np.unique(y), _refit=True,\n\u001b[0;32m--> 208\u001b[0;31m                                  sample_weight=sample_weight)\n\u001b[0m\u001b[1;32m    209\u001b[0m \u001b[0;34m\u001b[0m\u001b[0m\n\u001b[1;32m    210\u001b[0m     \u001b[0;32mdef\u001b[0m \u001b[0m_check_X\u001b[0m\u001b[0;34m(\u001b[0m\u001b[0mself\u001b[0m\u001b[0;34m,\u001b[0m \u001b[0mX\u001b[0m\u001b[0;34m)\u001b[0m\u001b[0;34m:\u001b[0m\u001b[0;34m\u001b[0m\u001b[0;34m\u001b[0m\u001b[0m\n",
      "\u001b[0;32m/usr/local/lib/python3.6/dist-packages/sklearn/naive_bayes.py\u001b[0m in \u001b[0;36m_partial_fit\u001b[0;34m(self, X, y, classes, _refit, sample_weight)\u001b[0m\n\u001b[1;32m    357\u001b[0m         \u001b[0mself\u001b[0m \u001b[0;34m:\u001b[0m \u001b[0mobject\u001b[0m\u001b[0;34m\u001b[0m\u001b[0;34m\u001b[0m\u001b[0m\n\u001b[1;32m    358\u001b[0m         \"\"\"\n\u001b[0;32m--> 359\u001b[0;31m         \u001b[0mX\u001b[0m\u001b[0;34m,\u001b[0m \u001b[0my\u001b[0m \u001b[0;34m=\u001b[0m \u001b[0mcheck_X_y\u001b[0m\u001b[0;34m(\u001b[0m\u001b[0mX\u001b[0m\u001b[0;34m,\u001b[0m \u001b[0my\u001b[0m\u001b[0;34m)\u001b[0m\u001b[0;34m\u001b[0m\u001b[0;34m\u001b[0m\u001b[0m\n\u001b[0m\u001b[1;32m    360\u001b[0m         \u001b[0;32mif\u001b[0m \u001b[0msample_weight\u001b[0m \u001b[0;32mis\u001b[0m \u001b[0;32mnot\u001b[0m \u001b[0;32mNone\u001b[0m\u001b[0;34m:\u001b[0m\u001b[0;34m\u001b[0m\u001b[0;34m\u001b[0m\u001b[0m\n\u001b[1;32m    361\u001b[0m             \u001b[0msample_weight\u001b[0m \u001b[0;34m=\u001b[0m \u001b[0m_check_sample_weight\u001b[0m\u001b[0;34m(\u001b[0m\u001b[0msample_weight\u001b[0m\u001b[0;34m,\u001b[0m \u001b[0mX\u001b[0m\u001b[0;34m)\u001b[0m\u001b[0;34m\u001b[0m\u001b[0;34m\u001b[0m\u001b[0m\n",
      "\u001b[0;32m/usr/local/lib/python3.6/dist-packages/sklearn/utils/validation.py\u001b[0m in \u001b[0;36mcheck_X_y\u001b[0;34m(X, y, accept_sparse, accept_large_sparse, dtype, order, copy, force_all_finite, ensure_2d, allow_nd, multi_output, ensure_min_samples, ensure_min_features, y_numeric, warn_on_dtype, estimator)\u001b[0m\n\u001b[1;32m    753\u001b[0m                     \u001b[0mensure_min_features\u001b[0m\u001b[0;34m=\u001b[0m\u001b[0mensure_min_features\u001b[0m\u001b[0;34m,\u001b[0m\u001b[0;34m\u001b[0m\u001b[0;34m\u001b[0m\u001b[0m\n\u001b[1;32m    754\u001b[0m                     \u001b[0mwarn_on_dtype\u001b[0m\u001b[0;34m=\u001b[0m\u001b[0mwarn_on_dtype\u001b[0m\u001b[0;34m,\u001b[0m\u001b[0;34m\u001b[0m\u001b[0;34m\u001b[0m\u001b[0m\n\u001b[0;32m--> 755\u001b[0;31m                     estimator=estimator)\n\u001b[0m\u001b[1;32m    756\u001b[0m     \u001b[0;32mif\u001b[0m \u001b[0mmulti_output\u001b[0m\u001b[0;34m:\u001b[0m\u001b[0;34m\u001b[0m\u001b[0;34m\u001b[0m\u001b[0m\n\u001b[1;32m    757\u001b[0m         y = check_array(y, 'csr', force_all_finite=True, ensure_2d=False,\n",
      "\u001b[0;32m/usr/local/lib/python3.6/dist-packages/sklearn/utils/validation.py\u001b[0m in \u001b[0;36mcheck_array\u001b[0;34m(array, accept_sparse, accept_large_sparse, dtype, order, copy, force_all_finite, ensure_2d, allow_nd, ensure_min_samples, ensure_min_features, warn_on_dtype, estimator)\u001b[0m\n\u001b[1;32m    529\u001b[0m                     \u001b[0marray\u001b[0m \u001b[0;34m=\u001b[0m \u001b[0marray\u001b[0m\u001b[0;34m.\u001b[0m\u001b[0mastype\u001b[0m\u001b[0;34m(\u001b[0m\u001b[0mdtype\u001b[0m\u001b[0;34m,\u001b[0m \u001b[0mcasting\u001b[0m\u001b[0;34m=\u001b[0m\u001b[0;34m\"unsafe\"\u001b[0m\u001b[0;34m,\u001b[0m \u001b[0mcopy\u001b[0m\u001b[0;34m=\u001b[0m\u001b[0;32mFalse\u001b[0m\u001b[0;34m)\u001b[0m\u001b[0;34m\u001b[0m\u001b[0;34m\u001b[0m\u001b[0m\n\u001b[1;32m    530\u001b[0m                 \u001b[0;32melse\u001b[0m\u001b[0;34m:\u001b[0m\u001b[0;34m\u001b[0m\u001b[0;34m\u001b[0m\u001b[0m\n\u001b[0;32m--> 531\u001b[0;31m                     \u001b[0marray\u001b[0m \u001b[0;34m=\u001b[0m \u001b[0mnp\u001b[0m\u001b[0;34m.\u001b[0m\u001b[0masarray\u001b[0m\u001b[0;34m(\u001b[0m\u001b[0marray\u001b[0m\u001b[0;34m,\u001b[0m \u001b[0morder\u001b[0m\u001b[0;34m=\u001b[0m\u001b[0morder\u001b[0m\u001b[0;34m,\u001b[0m \u001b[0mdtype\u001b[0m\u001b[0;34m=\u001b[0m\u001b[0mdtype\u001b[0m\u001b[0;34m)\u001b[0m\u001b[0;34m\u001b[0m\u001b[0;34m\u001b[0m\u001b[0m\n\u001b[0m\u001b[1;32m    532\u001b[0m             \u001b[0;32mexcept\u001b[0m \u001b[0mComplexWarning\u001b[0m\u001b[0;34m:\u001b[0m\u001b[0;34m\u001b[0m\u001b[0;34m\u001b[0m\u001b[0m\n\u001b[1;32m    533\u001b[0m                 raise ValueError(\"Complex data not supported\\n\"\n",
      "\u001b[0;32m/usr/local/lib/python3.6/dist-packages/numpy/core/_asarray.py\u001b[0m in \u001b[0;36masarray\u001b[0;34m(a, dtype, order)\u001b[0m\n\u001b[1;32m     83\u001b[0m \u001b[0;34m\u001b[0m\u001b[0m\n\u001b[1;32m     84\u001b[0m     \"\"\"\n\u001b[0;32m---> 85\u001b[0;31m     \u001b[0;32mreturn\u001b[0m \u001b[0marray\u001b[0m\u001b[0;34m(\u001b[0m\u001b[0ma\u001b[0m\u001b[0;34m,\u001b[0m \u001b[0mdtype\u001b[0m\u001b[0;34m,\u001b[0m \u001b[0mcopy\u001b[0m\u001b[0;34m=\u001b[0m\u001b[0;32mFalse\u001b[0m\u001b[0;34m,\u001b[0m \u001b[0morder\u001b[0m\u001b[0;34m=\u001b[0m\u001b[0morder\u001b[0m\u001b[0;34m)\u001b[0m\u001b[0;34m\u001b[0m\u001b[0;34m\u001b[0m\u001b[0m\n\u001b[0m\u001b[1;32m     86\u001b[0m \u001b[0;34m\u001b[0m\u001b[0m\n\u001b[1;32m     87\u001b[0m \u001b[0;34m\u001b[0m\u001b[0m\n",
      "\u001b[0;31mValueError\u001b[0m: could not convert string to float: 'SP_DYN_TFRT_IN'"
     ]
    }
   ],
   "source": [
    "from sklearn.model_selection import train_test_split\n",
    "from sklearn.naive_bayes import GaussianNB\n",
    "\n",
    "learning_df = df_countries[df_countries['Time'].isin([2015, 2016, 2017])]\n",
    "# display(learning_df)\n",
    "X = learning_df.drop([\"Happiness Score\", \"Country\", \"Time\"], axis=1)\n",
    "y = learning_df[\"Happiness Score\"]\n",
    "# display(X)\n",
    "# display(y)\n",
    "X_train, X_test, y_train, y_test = train_test_split(X, y, test_size=0.8)\n",
    "gnb = GaussianNB()\n",
    "\n",
    "# display(X_train)\n",
    "# display(y_train)\n",
    "y_pred = gnb.fit(X_train, y_train).predict(X_test)\n",
    "accuracy = (y_test == y_pred).sum() / len(y_test)\n",
    "print(\"%d / %d correct Happiness Score predictions\" % ((y_test == y_pred).sum(), X_test.shape[0]))\n",
    "print(\"Bayesian Accuracy \", accuracy)"
   ]
  },
  {
   "cell_type": "markdown",
   "metadata": {
    "colab_type": "text",
    "id": "myYD6sqEn9w9"
   },
   "source": [
    "Using Random Forest Classifier"
   ]
  },
  {
   "cell_type": "code",
   "execution_count": null,
   "metadata": {
    "colab": {},
    "colab_type": "code",
    "id": "jk8qMoOmW6Nx"
   },
   "outputs": [],
   "source": [
    "from sklearn.ensemble import RandomForestClassifier\n",
    "\n",
    "clf = RandomForestClassifier(n_estimators=50)\n",
    "clf.fit(X_train, y_train)\n",
    "\n",
    "y_pred = clf.predict(X_test)\n",
    "accuracy = (y_test == y_pred).sum() / len(y_test)\n",
    "print(\"%d / %d correct Happiness Score predictions\" % ((y_test == y_pred).sum(), X_test.shape[0]))\n",
    "print(\"Random Forest Accuracy \", accuracy)\n",
    "importances = clf.feature_importances_\n",
    "importances = pd.DataFrame({'Feature':X_train.columns,'Importance':importances})\n",
    "graph = importances.sort_values(by='Importance').set_index('Feature')\n",
    "graph.plot.bar(figsize=(30,10), rot=45)"
   ]
  },
  {
   "cell_type": "code",
   "execution_count": null,
   "metadata": {
    "colab": {},
    "colab_type": "code",
    "id": "4VHj4gRDDsMm"
   },
   "outputs": [],
   "source": [
    "final_df"
   ]
  }
 ],
 "metadata": {
  "colab": {
   "collapsed_sections": [],
   "name": "466 proj",
   "provenance": []
  },
  "kernelspec": {
   "display_name": "Python 3",
   "language": "python",
   "name": "python3"
  },
  "language_info": {
   "codemirror_mode": {
    "name": "ipython",
    "version": 3
   },
   "file_extension": ".py",
   "mimetype": "text/x-python",
   "name": "python",
   "nbconvert_exporter": "python",
   "pygments_lexer": "ipython3",
   "version": "3.7.3"
  }
 },
 "nbformat": 4,
 "nbformat_minor": 4
}
