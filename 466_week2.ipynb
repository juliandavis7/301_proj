{
 "cells": [
  {
   "cell_type": "code",
   "execution_count": 1,
   "metadata": {
    "colab": {},
    "colab_type": "code",
    "id": "CSOFNkcu7FId"
   },
   "outputs": [],
   "source": [
    "import pandas as pd\n",
    "\n",
    "data_dir = \"https://raw.githubusercontent.com/juliandavis7/301/master/\"\n",
    "\n",
    "df_unesco = pd.read_csv(data_dir + \"unesco.csv\")\n",
    "df_hap = pd.read_csv(data_dir + \"happiness.csv\")\n",
    "df_unesco.drop(\"Unnamed: 0\", axis=1, inplace=True)\n",
    "df_hap.drop(\"Unnamed: 0\", axis=1, inplace=True)"
   ]
  },
  {
   "cell_type": "markdown",
   "metadata": {
    "colab_type": "text",
    "id": "xT9l9DwUCnkY"
   },
   "source": [
    "I noticed that countries had different naming conventions in the two dataframes.\n",
    "\n",
    "Before merging, I want to make sure that all the country naming conventions are alligned.  This is what the next couple cells do."
   ]
  },
  {
   "cell_type": "code",
   "execution_count": 2,
   "metadata": {
    "colab": {
     "base_uri": "https://localhost:8080/",
     "height": 34
    },
    "colab_type": "code",
    "id": "E1YrMQrfrF71",
    "outputId": "b5942e31-bb70-45fd-d7ba-2884931aef7e"
   },
   "outputs": [
    {
     "name": "stdout",
     "output_type": "stream",
     "text": [
      "Countries in both dataframes before allignment: 141\n"
     ]
    }
   ],
   "source": [
    "unesco_countries = list(df_unesco[\"Country\"].unique())\n",
    "hap_countries = list(df_hap[\"Country\"].unique())\n",
    "\n",
    "def diff(li1, li2): \n",
    "    return list(set(li1) - set(li2)) \n",
    "\n",
    "unesco_only = diff(unesco_countries, hap_countries)\n",
    "unesco_only.sort()\n",
    "hap_only = diff(hap_countries, unesco_countries)\n",
    "hap_only.sort()\n",
    "\n",
    "def intersection(li1, li2):\n",
    "  return list(set(li1) & set(li2))\n",
    "\n",
    "in_both = intersection(unesco_countries, hap_countries)\n",
    "print(\"Countries in both dataframes before allignment:\", len(in_both))"
   ]
  },
  {
   "cell_type": "code",
   "execution_count": 3,
   "metadata": {
    "colab": {
     "base_uri": "https://localhost:8080/",
     "height": 34
    },
    "colab_type": "code",
    "id": "guhx5jWJt3VD",
    "outputId": "dfe3308f-a443-4b4a-c0aa-e5553c4a93a9"
   },
   "outputs": [
    {
     "name": "stdout",
     "output_type": "stream",
     "text": [
      "Countries in both dataframes after allignment: 161\n"
     ]
    }
   ],
   "source": [
    "for i, row in df_unesco.iterrows():\n",
    "  if df_unesco.at[i, \"Country\"] == \"Bolivia (Plurinational State of)\":\n",
    "    df_unesco.at[i, \"Country\"] = \"Bolivia\"\n",
    "  elif df_unesco.at[i, \"Country\"] == \"Czechia\":\n",
    "    df_unesco.at[i, \"Country\"] = \"Czech Republic\"\n",
    "  elif df_unesco.at[i, \"Country\"] == \"China, Hong Kong Special Administrative Region\":\n",
    "    df_unesco.at[i, \"Country\"] = \"Hong Kong\"\n",
    "  elif df_unesco.at[i, \"Country\"] == \"China, Macao Special Administrative Region\":\n",
    "    df_unesco.at[i, \"Country\"] = \"Hong Kong S.A.R., China\"\n",
    "  elif df_unesco.at[i, \"Country\"] == \"Iran (Islamic Republic of)\":\n",
    "    df_unesco.at[i, \"Country\"] = \"Iran\"\n",
    "  elif df_unesco.at[i, \"Country\"] == \"Russian Federation\":\n",
    "    df_unesco.at[i, \"Country\"] = \"Russia\"\n",
    "  elif df_unesco.at[i, \"Country\"] == \"Republic of Moldova\":\n",
    "    df_unesco.at[i, \"Country\"] = \"Moldova\"\n",
    "  elif df_unesco.at[i, \"Country\"] == \"Palestine\":\n",
    "    df_unesco.at[i, \"Country\"] = \"Palestinian Territories\"\n",
    "  elif df_unesco.at[i, \"Country\"] == \"Republic of Korea\":\n",
    "    df_unesco.at[i, \"Country\"] = \"South Korea\"\n",
    "  elif df_unesco.at[i, \"Country\"] == \"Eswatini\":\n",
    "    df_unesco.at[i, \"Country\"] = \"Swaziland\"\n",
    "  elif df_unesco.at[i, \"Country\"] == \"Syrian Arab Republic\":\n",
    "    df_unesco.at[i, \"Country\"] = \"Syria\"\n",
    "  elif df_unesco.at[i, \"Country\"] == \"United Republic of Tanzania\":\n",
    "    df_unesco.at[i, \"Country\"] = \"Tanzania\"\n",
    "  elif df_unesco.at[i, \"Country\"] == \"United Kingdom of Great Britain and Northern Ireland\":\n",
    "    df_unesco.at[i, \"Country\"] = \"United Kingdom\"\n",
    "  elif df_unesco.at[i, \"Country\"] == \"United States of America\":\n",
    "    df_unesco.at[i, \"Country\"] = \"United States\"\n",
    "  elif df_unesco.at[i, \"Country\"] == \"Venezuela (Bolivarian Republic of)\":\n",
    "    df_unesco.at[i, \"Country\"] = \"Venezuela\"\n",
    "  elif df_unesco.at[i, \"Country\"] == \"Viet Nam\":\n",
    "    df_unesco.at[i, \"Country\"] = \"Vietnam\"\n",
    "  elif df_unesco.at[i, \"Country\"] == \"Democratic Republic of the Congo\":\n",
    "    df_unesco.at[i, \"Country\"] = \"Congo (Kinshasa)\"\n",
    "  elif df_unesco.at[i, \"Country\"] == \"Congo\":\n",
    "    df_unesco.at[i, \"Country\"] = \"Congo (Brazzaville)\"\n",
    "  elif df_unesco.at[i, \"Country\"] == \"Côte d'Ivoire\":\n",
    "    df_unesco.at[i, \"Country\"] = \"Ivory Coast\"\n",
    "  elif df_unesco.at[i, \"Country\"] == \"Lao People's Democratic Republic\":\n",
    "    df_unesco.at[i, \"Country\"] = \"Laos\"\n",
    "\n",
    "  \n",
    "unesco_countries = list(df_unesco[\"Country\"].unique())\n",
    "hap_countries = list(df_hap[\"Country\"].unique())\n",
    "\n",
    "in_both = intersection(unesco_countries, hap_countries)\n",
    "print(\"Countries in both dataframes after allignment:\", len(in_both))"
   ]
  },
  {
   "cell_type": "code",
   "execution_count": 4,
   "metadata": {
    "colab": {
     "base_uri": "https://localhost:8080/",
     "height": 102
    },
    "colab_type": "code",
    "id": "w_lHIUjiEwr2",
    "outputId": "f702e57d-697a-4d8f-f900-e8da0d92dd5b"
   },
   "outputs": [
    {
     "name": "stdout",
     "output_type": "stream",
     "text": [
      "Number of observations: 455\n"
     ]
    }
   ],
   "source": [
    "df_combined = df_unesco.merge(df_hap, on=[\"Country\", \"Year\"])\n",
    "df_combined.rename(columns={\"Happiness Score\": \"happinesScore\"}, inplace=True)\n",
    "print(\"Number of observations:\", len(df_combined))\n",
    "# df_combined.to_csv(\"unesco_train2.csv\")"
   ]
  },
  {
   "cell_type": "markdown",
   "metadata": {
    "colab_type": "text",
    "id": "FMmHkP7tFV9d"
   },
   "source": [
    "After realligned and merging, we retain a lot more of the data.  This merge produced about 50 more observations (which is a lot for such a small dataset).  The more data we have the better our machine learning models will be able to predict."
   ]
  },
  {
   "cell_type": "code",
   "execution_count": 5,
   "metadata": {
    "colab": {
     "base_uri": "https://localhost:8080/",
     "height": 54
    },
    "colab_type": "code",
    "id": "FSxlpi5dEcbs",
    "outputId": "2a592c22-eafd-442c-affc-0b5625632559"
   },
   "outputs": [
    {
     "name": "stdout",
     "output_type": "stream",
     "text": [
      "['mortalityRate', 'gdpGrowthPct', 'gdpUS', 'gdpPerCapitaUS', 'gdpPerCapita ppp', 'gdp pppInternational', 'gni', 'gniPerCapita', 'gniPerCapita ppp', 'pop14under', 'pop15to24', 'pop25to64', 'pop65over', 'hivPct', 'povertyRatio', 'totalPop']\n"
     ]
    }
   ],
   "source": [
    "import pandas as pd\n",
    "import numpy as np\n",
    "\n",
    "data_dir = \"https://raw.githubusercontent.com/juliandavis7/301/master/\"\n",
    "\n",
    "df_combined = pd.read_csv(data_dir + \"unesco_train2.csv\")\n",
    "df_combined.drop(\"Unnamed: 0\", axis=1, inplace=True)\n",
    "df_combined.set_index([\"Country\", \"Year\"], inplace=True)\n",
    "\n",
    "bad_cols = []\n",
    "for col in df_combined:\n",
    "  for i in df_combined[col]:\n",
    "    if i == 0 or i == np.NaN:\n",
    "      if col not in bad_cols:\n",
    "        bad_cols.append(col)\n",
    "\n",
    "print(bad_cols)"
   ]
  },
  {
   "cell_type": "code",
   "execution_count": 6,
   "metadata": {
    "colab": {},
    "colab_type": "code",
    "id": "RhHQNrfaRsy5"
   },
   "outputs": [],
   "source": [
    "good_cols = ['fertilityRate', 'lifeExpectancy', 'popGrowth',\n",
    "                      'ruralPopPct', 'happinessScore', 'mortalityRate',\n",
    "                      'gdpGrowthPct', 'gdpUS', 'gdpPerCapitaUS',\n",
    "                      'gdpPerCapita ppp', 'gdp pppInternational', 'gni',\n",
    "                      'gniPerCapita']"
   ]
  },
  {
   "cell_type": "markdown",
   "metadata": {
    "colab_type": "text",
    "id": "74FBAqySVmh9"
   },
   "source": [
    "Manually add missing values.  Annoying, but it will help retain data which will increase the predictive accuracy of our machine learning models."
   ]
  },
  {
   "cell_type": "code",
   "execution_count": 7,
   "metadata": {
    "colab": {},
    "colab_type": "code",
    "id": "jYg_X9HRNY0T"
   },
   "outputs": [],
   "source": [
    "df_combined.at[(\"Syria\", 2015), \"gdpGrowthPct\"] = -6.1\n",
    "df_combined.at[(\"Syria\", 2015), \"gdpUS\"] = 19090000\n",
    "df_combined.at[(\"Syria\", 2015), \"gdpPerCapitaUS\"] = 890\n",
    "df_combined.at[(\"Syria\", 2015), \"gdpPerCapita ppp\"] = 2900\n",
    "df_combined.at[(\"Syria\", 2015), \"gdp pppInternational\"] = 61900000000\n",
    "df_combined.at[(\"Syria\", 2015), \"gniPerCapita\"] = 681\n",
    "df_combined.at[(\"Syria\", 2015), \"gniPerCapita ppp\"] = 2218\n",
    "\n",
    "df_combined.at[(\"Syria\", 2016), \"gdpGrowthPct\"] = -4.0\n",
    "df_combined.at[(\"Syria\", 2016), \"gdpUS\"] = 12377000\n",
    "df_combined.at[(\"Syria\", 2016), \"gdpPerCapitaUS\"] = 709\n",
    "df_combined.at[(\"Syria\", 2016), \"gdpPerCapita ppp\"] = 3300\n",
    "df_combined.at[(\"Syria\", 2016), \"gdp pppInternational\"] = 55800000000\n",
    "df_combined.at[(\"Syria\", 2016), \"gniPerCapita\"] = 377\n",
    "df_combined.at[(\"Syria\", 2016), \"gniPerCapita ppp\"] = 1754\n",
    "\n",
    "df_combined.at[(\"Syria\", 2017), \"gdpGrowthPct\"] = 1.9\n",
    "df_combined.at[(\"Syria\", 2017), \"gdpUS\"] = 15183000\n",
    "df_combined.at[(\"Syria\", 2017), \"gdpPerCapitaUS\"] = 890\n",
    "df_combined.at[(\"Syria\", 2017), \"gdpPerCapita ppp\"] = 2800\n",
    "df_combined.at[(\"Syria\", 2017), \"gdp pppInternational\"] = 50280000000\n",
    "df_combined.at[(\"Syria\", 2017), \"gniPerCapita\"] = 704\n",
    "df_combined.at[(\"Syria\", 2017), \"gniPerCapita ppp\"] = 2214\n",
    "\n",
    "df_combined.at[(\"Venezuela\", 2015), \"gdpGrowthPct\"] = -6.2\n",
    "df_combined.at[(\"Venezuela\", 2015), \"gdpUS\"] = 323595000000\n",
    "df_combined.at[(\"Venezuela\", 2015), \"gdpPerCapitaUS\"] = 10568.1\n",
    "df_combined.at[(\"Venezuela\", 2015), \"gdpPerCapita ppp\"] = 17300\n",
    "df_combined.at[(\"Venezuela\", 2015), \"gdp pppInternational\"] = 531100000000\n",
    "df_combined.at[(\"Venezuela\", 2015), \"gniPerCapita\"] = 11047\n",
    "df_combined.at[(\"Venezuela\", 2015), \"gniPerCapita ppp\"] = 16690\n",
    "\n",
    "df_combined.at[(\"Venezuela\", 2016), \"gdpGrowthPct\"] = -17.04\n",
    "df_combined.at[(\"Venezuela\", 2016), \"gdpUS\"] = 279249000000\n",
    "df_combined.at[(\"Venezuela\", 2016), \"gdpPerCapitaUS\"] = 9092.02\n",
    "df_combined.at[(\"Venezuela\", 2016), \"gdpPerCapita ppp\"] = 14400\n",
    "df_combined.at[(\"Venezuela\", 2016), \"gdp pppInternational\"] = 443700000000\n",
    "df_combined.at[(\"Venezuela\", 2016), \"gniPerCapita\"] = 9420\n",
    "df_combined.at[(\"Venezuela\", 2016), \"gniPerCapita ppp\"] = 14220\n",
    "\n",
    "df_combined.at[(\"Venezuela\", 2017), \"gdpGrowthPct\"] = -15.67\n",
    "df_combined.at[(\"Venezuela\", 2017), \"gdpUS\"] = 143841000000\n",
    "df_combined.at[(\"Venezuela\", 2017), \"gdpPerCapitaUS\"] = 4755.03\n",
    "df_combined.at[(\"Venezuela\", 2017), \"gdpPerCapita ppp\"] = 12500\n",
    "df_combined.at[(\"Venezuela\", 2017), \"gdp pppInternational\"] = 381600000000\n",
    "df_combined.at[(\"Venezuela\", 2017), \"gniPerCapita\"] = 8216\n",
    "df_combined.at[(\"Venezuela\", 2017), \"gniPerCapita ppp\"] = 12010\n",
    "\n",
    "df_combined.at[(\"Somalia\", 2016), \"gdpGrowthPct\"] = 2.89\n",
    "df_combined.at[(\"Somalia\", 2016), \"gdpPerCapita ppp\"] = 1395\n",
    "# 19.98 B gdp / 14.32 M total pop\n",
    "df_combined.at[(\"Somalia\", 2016), \"gdp pppInternational\"] = 19980000000 \n",
    "df_combined.at[(\"Somalia\", 2016), \"gniPerCapita\"] = 101\n",
    "df_combined.at[(\"Somalia\", 2016), \"gniPerCapita ppp\"] = 290\n",
    "\n",
    "df_combined.at[(\"Somalia\", 2017), \"gdpGrowthPct\"] = 1.39\n",
    "df_combined.at[(\"Somalia\", 2017), \"gdpPerCapita ppp\"] = 1386\n",
    "# 20.44 B gdp / 14.74 M total pop\n",
    "df_combined.at[(\"Somalia\", 2017), \"gdp pppInternational\"] = 20440000000\n",
    "df_combined.at[(\"Somalia\", 2017), \"gniPerCapita\"] = 102\n",
    "df_combined.at[(\"Somalia\", 2017), \"gniPerCapita ppp\"] = 295\n",
    "\n",
    "\n",
    "df_combined.at[(\"Djibouti\", 2015), \"gdpPerCapita ppp\"] = 3139.3\n",
    "df_combined.at[(\"Djibouti\", 2015), \"gdp pppInternational\"] = 3203000000\n",
    "df_combined.at[(\"Djibouti\", 2015), \"gniPerCapita ppp\"] = 3103\n",
    "\n",
    "df_combined.at[(\"Lithuania\", 2015), \"gni\"] = 43900000000\n",
    "df_combined.at[(\"Lithuania\", 2015), \"gniPerCapita\"] = 15110\n",
    "df_combined.at[(\"Lithuania\", 2015), \"gniPerCapita ppp\"] = 27780\n",
    "\n",
    "df_combined.at[(\"Lithuania\", 2016), \"gni\"] = 42460000000\n",
    "df_combined.at[(\"Lithuania\", 2016), \"gniPerCapita\"] = 14800\n",
    "df_combined.at[(\"Lithuania\", 2016), \"gniPerCapita ppp\"] = 29220\n",
    "\n",
    "df_combined.at[(\"Lithuania\", 2017), \"gni\"] = 42930000000\n",
    "df_combined.at[(\"Lithuania\", 2017), \"gniPerCapita\"] = 15180\n",
    "df_combined.at[(\"Lithuania\", 2017), \"gniPerCapita ppp\"] = 32070\n",
    "\n",
    "df_combined.at[(\"Yemen\", 2017), \"gniPerCapita\"] = 1060"
   ]
  },
  {
   "cell_type": "code",
   "execution_count": 8,
   "metadata": {
    "colab": {},
    "colab_type": "code",
    "id": "pQEUHb6eH73Z"
   },
   "outputs": [],
   "source": [
    "# df_combined.loc[(\"Djibouti\", 2015)]"
   ]
  },
  {
   "cell_type": "code",
   "execution_count": 9,
   "metadata": {
    "colab": {},
    "colab_type": "code",
    "id": "GzVcsNN4KljJ"
   },
   "outputs": [],
   "source": [
    "for col in good_cols:\n",
    "  series = df_combined[col]\n",
    "  for i in series:\n",
    "    if pd.isnull(i):\n",
    "      print(col)\n",
    "    break"
   ]
  },
  {
   "cell_type": "markdown",
   "metadata": {
    "colab_type": "text",
    "id": "Ks1KMcYDF-NW"
   },
   "source": [
    "Compare and contrast different machine learning models that we've learned."
   ]
  },
  {
   "cell_type": "code",
   "execution_count": 48,
   "metadata": {
    "colab": {
     "base_uri": "https://localhost:8080/",
     "height": 85
    },
    "colab_type": "code",
    "id": "bkcuEkhbGDzM",
    "outputId": "29b9aa77-c6f5-429a-eb80-e9060c496b36"
   },
   "outputs": [
    {
     "data": {
      "text/plain": [
       "knn    0.663059\n",
       "dt     0.801595\n",
       "rf     0.582872\n",
       "gr     0.629892\n",
       "dtype: float64"
      ]
     },
     "execution_count": 48,
     "metadata": {},
     "output_type": "execute_result"
    }
   ],
   "source": [
    "from sklearn.pipeline import make_pipeline\n",
    "from sklearn.preprocessing import StandardScaler\n",
    "from sklearn.naive_bayes import GaussianNB\n",
    "from sklearn.neighbors import KNeighborsRegressor\n",
    "from sklearn.tree import DecisionTreeRegressor\n",
    "from sklearn.ensemble import RandomForestRegressor, GradientBoostingRegressor\n",
    "from sklearn.model_selection import cross_val_score\n",
    "\n",
    "Xtrain = df_combined[['fertilityRate', 'lifeExpectancy', 'popGrowth',\n",
    "                      'ruralPopPct', 'happinessScore', 'mortalityRate',\n",
    "                      'gdpGrowthPct', 'gdpUS', 'gdpPerCapitaUS',\n",
    "                      'gdpPerCapita ppp', 'gdp pppInternational', 'gni',\n",
    "                      'gniPerCapita']]\n",
    "Xtrain = Xtrain.dropna()\n",
    "ytrain = Xtrain[\"happinessScore\"]\n",
    "Xtrain.drop(\"happinessScore\", axis=1, inplace=True)\n",
    "\n",
    "def tryModel(model, Xtrain, ytrain):\n",
    "\n",
    "  pipeline = make_pipeline(\n",
    "      StandardScaler(),\n",
    "      model\n",
    "    )\n",
    "\n",
    "  cv_errs = -cross_val_score(pipeline, X=Xtrain, y=ytrain,\n",
    "                             scoring=\"neg_mean_squared_error\", cv=10)\n",
    "  \n",
    "  return np.sqrt(cv_errs.mean())\n",
    "\n",
    "knn = KNeighborsRegressor()\n",
    "dt = DecisionTreeRegressor()\n",
    "rf = RandomForestRegressor(max_features=\"sqrt\")\n",
    "params = {'n_estimators': 100, 'max_depth': 5, 'learning_rate': 0.1}\n",
    "gr = GradientBoostingRegressor(**params) \n",
    "\n",
    "model_dict = {'knn': knn, 'dt': dt, 'rf': rf, 'gr': gr}\n",
    "models = ['knn', 'dt', 'rf', 'gr'] \n",
    "\n",
    "errs = pd.Series()\n",
    "for model in models:\n",
    "  errs[model] = tryModel(model_dict[model], Xtrain, ytrain)\n",
    "errs"
   ]
  },
  {
   "cell_type": "markdown",
   "metadata": {},
   "source": [
    "Ethan's week 2 work found below\n",
    "\n",
    "Feature selection using Random Forest because it is most accurate"
   ]
  },
  {
   "cell_type": "code",
   "execution_count": 149,
   "metadata": {},
   "outputs": [],
   "source": [
    "my_cols = ['fertilityRate', 'lifeExpectancy', 'popGrowth',\n",
    "                      'ruralPopPct', 'mortalityRate',\n",
    "                      'gdpGrowthPct', 'gdpUS', 'gdpPerCapita ppp', \n",
    "                      'gdp pppInternational', 'happinessScore']"
   ]
  },
  {
   "cell_type": "code",
   "execution_count": 99,
   "metadata": {
    "colab": {},
    "colab_type": "code",
    "id": "hSkr3GZV3wTb"
   },
   "outputs": [
    {
     "name": "stdout",
     "output_type": "stream",
     "text": [
      "fertilityRate-lifeExpectancy-popGrowth-happinessScore               0.700379\n",
      "fertilityRate-lifeExpectancy-ruralPopPct-happinessScore             0.725813\n",
      "fertilityRate-lifeExpectancy-mortalityRate-happinessScore           0.781023\n",
      "fertilityRate-lifeExpectancy-gdpGrowthPct-happinessScore            0.795092\n",
      "fertilityRate-lifeExpectancy-gdpUS-happinessScore                   0.723649\n",
      "fertilityRate-lifeExpectancy-gdpPerCapita ppp-happinessScore        0.679635\n",
      "fertilityRate-lifeExpectancy-gdp pppInternational-happinessScore    0.765432\n",
      "fertilityRate-lifeExpectancy-happinessScore                         0.793142\n",
      "fertilityRate-popGrowth-ruralPopPct-happinessScore                  0.754789\n",
      "fertilityRate-popGrowth-mortalityRate-happinessScore                0.733901\n",
      "fertilityRate-popGrowth-gdpGrowthPct-happinessScore                 0.780403\n",
      "fertilityRate-popGrowth-gdpUS-happinessScore                        0.813952\n",
      "fertilityRate-popGrowth-gdpPerCapita ppp-happinessScore             0.721093\n",
      "fertilityRate-popGrowth-gdp pppInternational-happinessScore         0.808042\n",
      "fertilityRate-popGrowth-happinessScore                              0.815982\n",
      "fertilityRate-ruralPopPct-mortalityRate-happinessScore              0.797999\n",
      "fertilityRate-ruralPopPct-gdpGrowthPct-happinessScore               0.763940\n",
      "fertilityRate-ruralPopPct-gdpUS-happinessScore                      0.785327\n",
      "fertilityRate-ruralPopPct-gdpPerCapita ppp-happinessScore           0.667399\n",
      "fertilityRate-ruralPopPct-gdp pppInternational-happinessScore       0.808830\n",
      "fertilityRate-ruralPopPct-happinessScore                            0.785511\n",
      "fertilityRate-mortalityRate-gdpGrowthPct-happinessScore             0.840913\n",
      "fertilityRate-mortalityRate-gdpUS-happinessScore                    0.768003\n",
      "fertilityRate-mortalityRate-gdpPerCapita ppp-happinessScore         0.667318\n",
      "fertilityRate-mortalityRate-gdp pppInternational-happinessScore     0.816633\n",
      "fertilityRate-mortalityRate-happinessScore                          0.892185\n",
      "fertilityRate-gdpGrowthPct-gdpUS-happinessScore                     0.846656\n",
      "fertilityRate-gdpGrowthPct-gdpPerCapita ppp-happinessScore          0.707718\n",
      "fertilityRate-gdpGrowthPct-gdp pppInternational-happinessScore      0.851241\n",
      "fertilityRate-gdpGrowthPct-happinessScore                           0.879438\n",
      "dtype: float64\n"
     ]
    }
   ],
   "source": [
    "from itertools import combinations\n",
    "# feature selection\n",
    "# for features in [[\"win\", \"summer\"],\n",
    "#                  [\"win\", \"summer\", \"age\"],\n",
    "#                  [\"win\", \"summer\", \"age\", \"sep\"],\n",
    "#                  [\"win\", \"summer\", \"age\", \"har\"],\n",
    "#                  [\"win\", \"summer\", \"age\", \"har\", \"sep\"]]:\n",
    "\n",
    "combo_list = list()\n",
    "for x in range(3, len(my_cols)):\n",
    "    combos_x = combinations(my_cols, x)\n",
    "    for element in list(combos_x):\n",
    "        combo_list.append(element)\n",
    "        \n",
    "feature_selection_results = pd.Series()\n",
    "combo_list = combo_list[:30]\n",
    "# iterate all combination of columns and put error score into feature_selection_results\n",
    "for combo in combo_list:\n",
    "    # do 3 iterations on this combo\n",
    "    combo = list(combo)\n",
    "    if \"happinessScore\" not in combo:\n",
    "        combo.append('happinessScore')\n",
    "    Xtrain = df_combined[list(combo)]\n",
    "    Xtrain = Xtrain.dropna()\n",
    "    ytrain = Xtrain[\"happinessScore\"]\n",
    "    Xtrain.drop(\"happinessScore\", axis=1, inplace=True)\n",
    "\n",
    "\n",
    "#     print(Xtrain)\n",
    "#     print(ytrain)\n",
    "    error = tryModel(gr, Xtrain, ytrain)\n",
    "    key = \"-\".join(combo)\n",
    "\n",
    "    feature_selection_results[key] = error\n",
    "    \n",
    "print(feature_selection_results)"
   ]
  },
  {
   "cell_type": "code",
   "execution_count": 150,
   "metadata": {},
   "outputs": [],
   "source": [
    "# making graphs for a country over time, color coding by predicted vs known happiness data\n",
    "\n",
    "#This method takes in country name and returns series of happiness score guesses from 1970 to 2017\n",
    "# can be used to plot happiness score estimates vs year\n",
    "Xtrain = df_combined[list(my_cols)]\n",
    "Xtrain = Xtrain.dropna()\n",
    "ytrain = Xtrain[\"happinessScore\"]\n",
    "Xtrain.drop(\"happinessScore\", axis=1, inplace=True)\n",
    "\n",
    "def predict_country(country):\n",
    "    cols = my_cols\n",
    "    cols.remove(\"happinessScore\")\n",
    "    Xtest = df_combined[list(cols)]\n",
    "   \n",
    "    df_country = df_unesco.loc[df_unesco['Country'] == country]\n",
    "    df_country = df_country[list(my_cols)]\n",
    "    df_country = df_country.reset_index()\n",
    "    df_country = df_country.drop(['index'], axis=1)\n",
    "    \n",
    "#     df_new = df_unesco['Year'].unique()\n",
    "#     print(len(df_new))\n",
    "    y_pred = rf.fit(Xtrain, ytrain).predict(df_country)\n",
    "    return pd.Series(y_pred)\n",
    "    \n",
    "    \n",
    "\n",
    "happiness_predictions = predict_country(\"Iraq\")\n"
   ]
  },
  {
   "cell_type": "code",
   "execution_count": 139,
   "metadata": {},
   "outputs": [
    {
     "data": {
      "text/plain": [
       "<matplotlib.axes._subplots.AxesSubplot at 0x7f75424b1be0>"
      ]
     },
     "execution_count": 139,
     "metadata": {},
     "output_type": "execute_result"
    },
    {
     "data": {
      "image/png": "[encoded data removed]",
      "text/plain": [
       "<Figure size 432x288 with 1 Axes>"
      ]
     },
     "metadata": {
      "needs_background": "light"
     },
     "output_type": "display_data"
    }
   ],
   "source": [
    "happiness_predictions.plot.line()\n"
   ]
  },
  {
   "cell_type": "markdown",
   "metadata": {},
   "source": [
    "Predicted graph starting at 1970 to 2017 for Iraq\n"
   ]
  },
  {
   "cell_type": "code",
   "execution_count": null,
   "metadata": {},
   "outputs": [],
   "source": []
  }
 ],
 "metadata": {
  "colab": {
   "collapsed_sections": [],
   "name": "466_week2.ipynb",
   "provenance": []
  },
  "kernelspec": {
   "display_name": "Python 3",
   "language": "python",
   "name": "python3"
  },
  "language_info": {
   "codemirror_mode": {
    "name": "ipython",
    "version": 3
   },
   "file_extension": ".py",
   "mimetype": "text/x-python",
   "name": "python",
   "nbconvert_exporter": "python",
   "pygments_lexer": "ipython3",
   "version": "3.7.3"
  }
 },
 "nbformat": 4,
 "nbformat_minor": 4
}
