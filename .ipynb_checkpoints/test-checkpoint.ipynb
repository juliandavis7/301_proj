{
 "cells": [
  {
   "cell_type": "markdown",
   "metadata": {},
   "source": [
    "PART 2 - DATA EXPLORATION"
   ]
  },
  {
   "cell_type": "code",
   "execution_count": 39,
   "metadata": {},
   "outputs": [
    {
     "data": {
      "text/html": [
       "<div>\n",
       "<style scoped>\n",
       "    .dataframe tbody tr th:only-of-type {\n",
       "        vertical-align: middle;\n",
       "    }\n",
       "\n",
       "    .dataframe tbody tr th {\n",
       "        vertical-align: top;\n",
       "    }\n",
       "\n",
       "    .dataframe thead th {\n",
       "        text-align: right;\n",
       "    }\n",
       "</style>\n",
       "<table border=\"1\" class=\"dataframe\">\n",
       "  <thead>\n",
       "    <tr style=\"text-align: right;\">\n",
       "      <th></th>\n",
       "      <th></th>\n",
       "      <th>Country</th>\n",
       "      <th>Year</th>\n",
       "      <th>fertilityRate</th>\n",
       "      <th>lifeExpectancy</th>\n",
       "      <th>mortalityRate</th>\n",
       "      <th>popGrowth</th>\n",
       "      <th>ruralPopPct</th>\n",
       "      <th>gdpGrowthPct</th>\n",
       "      <th>gdpUS</th>\n",
       "      <th>gdpPerCapitaUS</th>\n",
       "      <th>...</th>\n",
       "      <th>gniPerCapita</th>\n",
       "      <th>gniPerCapita ppp</th>\n",
       "      <th>pop14under</th>\n",
       "      <th>pop15to24</th>\n",
       "      <th>pop25to64</th>\n",
       "      <th>pop65over</th>\n",
       "      <th>hivPct</th>\n",
       "      <th>povertyRatio</th>\n",
       "      <th>totalPop</th>\n",
       "      <th>happinessScore</th>\n",
       "    </tr>\n",
       "    <tr>\n",
       "      <th>Country</th>\n",
       "      <th>Year</th>\n",
       "      <th></th>\n",
       "      <th></th>\n",
       "      <th></th>\n",
       "      <th></th>\n",
       "      <th></th>\n",
       "      <th></th>\n",
       "      <th></th>\n",
       "      <th></th>\n",
       "      <th></th>\n",
       "      <th></th>\n",
       "      <th></th>\n",
       "      <th></th>\n",
       "      <th></th>\n",
       "      <th></th>\n",
       "      <th></th>\n",
       "      <th></th>\n",
       "      <th></th>\n",
       "      <th></th>\n",
       "      <th></th>\n",
       "      <th></th>\n",
       "      <th></th>\n",
       "    </tr>\n",
       "  </thead>\n",
       "  <tbody>\n",
       "    <tr>\n",
       "      <td rowspan=\"3\" valign=\"top\">Canada</td>\n",
       "      <td>2015</td>\n",
       "      <td>Canada</td>\n",
       "      <td>2015</td>\n",
       "      <td>1.5630</td>\n",
       "      <td>81.90000</td>\n",
       "      <td>4.7</td>\n",
       "      <td>0.83277</td>\n",
       "      <td>18.741</td>\n",
       "      <td>1.00088</td>\n",
       "      <td>1.552522e+12</td>\n",
       "      <td>43327.17364</td>\n",
       "      <td>...</td>\n",
       "      <td>47380.0</td>\n",
       "      <td>43720.0</td>\n",
       "      <td>5761.199</td>\n",
       "      <td>4648.731</td>\n",
       "      <td>19833.155</td>\n",
       "      <td>5783.591</td>\n",
       "      <td>0.0</td>\n",
       "      <td>0.0</td>\n",
       "      <td>36026.676</td>\n",
       "      <td>7.427</td>\n",
       "    </tr>\n",
       "    <tr>\n",
       "      <td>2016</td>\n",
       "      <td>Canada</td>\n",
       "      <td>2016</td>\n",
       "      <td>1.5433</td>\n",
       "      <td>82.30051</td>\n",
       "      <td>4.6</td>\n",
       "      <td>1.19865</td>\n",
       "      <td>18.700</td>\n",
       "      <td>1.41410</td>\n",
       "      <td>1.526954e+12</td>\n",
       "      <td>42105.90006</td>\n",
       "      <td>...</td>\n",
       "      <td>43770.0</td>\n",
       "      <td>44280.0</td>\n",
       "      <td>5784.173</td>\n",
       "      <td>4620.449</td>\n",
       "      <td>19991.505</td>\n",
       "      <td>5986.817</td>\n",
       "      <td>0.0</td>\n",
       "      <td>0.0</td>\n",
       "      <td>36382.944</td>\n",
       "      <td>7.404</td>\n",
       "    </tr>\n",
       "    <tr>\n",
       "      <td>2017</td>\n",
       "      <td>Canada</td>\n",
       "      <td>2017</td>\n",
       "      <td>1.4961</td>\n",
       "      <td>82.47049</td>\n",
       "      <td>4.5</td>\n",
       "      <td>1.21548</td>\n",
       "      <td>18.650</td>\n",
       "      <td>3.04735</td>\n",
       "      <td>1.647120e+12</td>\n",
       "      <td>44870.77616</td>\n",
       "      <td>...</td>\n",
       "      <td>42790.0</td>\n",
       "      <td>46010.0</td>\n",
       "      <td>5829.397</td>\n",
       "      <td>4562.767</td>\n",
       "      <td>20153.331</td>\n",
       "      <td>6186.600</td>\n",
       "      <td>0.0</td>\n",
       "      <td>0.0</td>\n",
       "      <td>36732.095</td>\n",
       "      <td>7.316</td>\n",
       "    </tr>\n",
       "    <tr>\n",
       "      <td rowspan=\"2\" valign=\"top\">Benin</td>\n",
       "      <td>2015</td>\n",
       "      <td>Benin</td>\n",
       "      <td>2015</td>\n",
       "      <td>5.0480</td>\n",
       "      <td>60.63900</td>\n",
       "      <td>66.6</td>\n",
       "      <td>2.77298</td>\n",
       "      <td>54.305</td>\n",
       "      <td>2.09581</td>\n",
       "      <td>8.291156e+09</td>\n",
       "      <td>783.96308</td>\n",
       "      <td>...</td>\n",
       "      <td>860.0</td>\n",
       "      <td>2110.0</td>\n",
       "      <td>4551.582</td>\n",
       "      <td>2098.709</td>\n",
       "      <td>3584.299</td>\n",
       "      <td>341.362</td>\n",
       "      <td>1.0</td>\n",
       "      <td>49.5</td>\n",
       "      <td>10575.952</td>\n",
       "      <td>3.340</td>\n",
       "    </tr>\n",
       "    <tr>\n",
       "      <td>2016</td>\n",
       "      <td>Benin</td>\n",
       "      <td>2016</td>\n",
       "      <td>4.9770</td>\n",
       "      <td>60.90700</td>\n",
       "      <td>65.1</td>\n",
       "      <td>2.76353</td>\n",
       "      <td>53.771</td>\n",
       "      <td>3.96486</td>\n",
       "      <td>8.573160e+09</td>\n",
       "      <td>788.53244</td>\n",
       "      <td>...</td>\n",
       "      <td>820.0</td>\n",
       "      <td>2160.0</td>\n",
       "      <td>4660.437</td>\n",
       "      <td>2157.572</td>\n",
       "      <td>3702.286</td>\n",
       "      <td>351.768</td>\n",
       "      <td>1.0</td>\n",
       "      <td>0.0</td>\n",
       "      <td>10872.063</td>\n",
       "      <td>3.484</td>\n",
       "    </tr>\n",
       "  </tbody>\n",
       "</table>\n",
       "<p>5 rows × 23 columns</p>\n",
       "</div>"
      ],
      "text/plain": [
       "             Country  Year  fertilityRate  lifeExpectancy  mortalityRate  \\\n",
       "Country Year                                                               \n",
       "Canada  2015  Canada  2015         1.5630        81.90000            4.7   \n",
       "        2016  Canada  2016         1.5433        82.30051            4.6   \n",
       "        2017  Canada  2017         1.4961        82.47049            4.5   \n",
       "Benin   2015   Benin  2015         5.0480        60.63900           66.6   \n",
       "        2016   Benin  2016         4.9770        60.90700           65.1   \n",
       "\n",
       "              popGrowth  ruralPopPct  gdpGrowthPct         gdpUS  \\\n",
       "Country Year                                                       \n",
       "Canada  2015    0.83277       18.741       1.00088  1.552522e+12   \n",
       "        2016    1.19865       18.700       1.41410  1.526954e+12   \n",
       "        2017    1.21548       18.650       3.04735  1.647120e+12   \n",
       "Benin   2015    2.77298       54.305       2.09581  8.291156e+09   \n",
       "        2016    2.76353       53.771       3.96486  8.573160e+09   \n",
       "\n",
       "              gdpPerCapitaUS  ...  gniPerCapita  gniPerCapita ppp  pop14under  \\\n",
       "Country Year                  ...                                               \n",
       "Canada  2015     43327.17364  ...       47380.0           43720.0    5761.199   \n",
       "        2016     42105.90006  ...       43770.0           44280.0    5784.173   \n",
       "        2017     44870.77616  ...       42790.0           46010.0    5829.397   \n",
       "Benin   2015       783.96308  ...         860.0            2110.0    4551.582   \n",
       "        2016       788.53244  ...         820.0            2160.0    4660.437   \n",
       "\n",
       "              pop15to24  pop25to64  pop65over  hivPct  povertyRatio  \\\n",
       "Country Year                                                          \n",
       "Canada  2015   4648.731  19833.155   5783.591     0.0           0.0   \n",
       "        2016   4620.449  19991.505   5986.817     0.0           0.0   \n",
       "        2017   4562.767  20153.331   6186.600     0.0           0.0   \n",
       "Benin   2015   2098.709   3584.299    341.362     1.0          49.5   \n",
       "        2016   2157.572   3702.286    351.768     1.0           0.0   \n",
       "\n",
       "               totalPop  happinessScore  \n",
       "Country Year                             \n",
       "Canada  2015  36026.676           7.427  \n",
       "        2016  36382.944           7.404  \n",
       "        2017  36732.095           7.316  \n",
       "Benin   2015  10575.952           3.340  \n",
       "        2016  10872.063           3.484  \n",
       "\n",
       "[5 rows x 23 columns]"
      ]
     },
     "execution_count": 39,
     "metadata": {},
     "output_type": "execute_result"
    }
   ],
   "source": [
    "import pandas as pd\n",
    "\n",
    "df = pd.read_csv(\"unesco_train.csv\")\n",
    "df.set_index([\"Country\", \"Year\"], drop=False, inplace=True)\n",
    "df.head()"
   ]
  },
  {
   "cell_type": "markdown",
   "metadata": {},
   "source": [
    "First, I explored the most happy and least happy countries for years 2015-2017 and wanted to see if these countries would match my intuition."
   ]
  },
  {
   "cell_type": "code",
   "execution_count": 51,
   "metadata": {},
   "outputs": [
    {
     "name": "stdout",
     "output_type": "stream",
     "text": [
      "\n",
      "Top 3 'Most Happy' Countries (2015)\n"
     ]
    },
    {
     "data": {
      "text/plain": [
       "Country      Year\n",
       "Switzerland  2015    7.587\n",
       "Iceland      2015    7.561\n",
       "Denmark      2015    7.527\n",
       "Name: happinessScore, dtype: float64"
      ]
     },
     "metadata": {},
     "output_type": "display_data"
    },
    {
     "name": "stdout",
     "output_type": "stream",
     "text": [
      "\n",
      "Top 3 'Least Happy' Countries (2015)\n"
     ]
    },
    {
     "data": {
      "text/plain": [
       "Country  Year\n",
       "Togo     2015    2.839\n",
       "Burundi  2015    2.905\n",
       "Syria    2015    3.006\n",
       "Name: happinessScore, dtype: float64"
      ]
     },
     "metadata": {},
     "output_type": "display_data"
    },
    {
     "name": "stdout",
     "output_type": "stream",
     "text": [
      "\n",
      "Top 3 'Most Happy' Countries (2016)\n"
     ]
    },
    {
     "data": {
      "text/plain": [
       "Country      Year\n",
       "Denmark      2016    7.526\n",
       "Switzerland  2016    7.509\n",
       "Iceland      2016    7.501\n",
       "Name: happinessScore, dtype: float64"
      ]
     },
     "metadata": {},
     "output_type": "display_data"
    },
    {
     "name": "stdout",
     "output_type": "stream",
     "text": [
      "\n",
      "Top 3 'Least Happy' Countries (2016)\n"
     ]
    },
    {
     "data": {
      "text/plain": [
       "Country  Year\n",
       "Burundi  2016    2.905\n",
       "Syria    2016    3.069\n",
       "Togo     2016    3.303\n",
       "Name: happinessScore, dtype: float64"
      ]
     },
     "metadata": {},
     "output_type": "display_data"
    },
    {
     "name": "stdout",
     "output_type": "stream",
     "text": [
      "\n",
      "Top 3 'Most Happy' Countries (2017)\n"
     ]
    },
    {
     "data": {
      "text/plain": [
       "Country  Year\n",
       "Norway   2017    7.537\n",
       "Denmark  2017    7.522\n",
       "Iceland  2017    7.504\n",
       "Name: happinessScore, dtype: float64"
      ]
     },
     "metadata": {},
     "output_type": "display_data"
    },
    {
     "name": "stdout",
     "output_type": "stream",
     "text": [
      "\n",
      "Top 3 'Least Happy' Countries (2017)\n"
     ]
    },
    {
     "data": {
      "text/plain": [
       "Country                   Year\n",
       "Central African Republic  2017    2.693\n",
       "Burundi                   2017    2.905\n",
       "Tanzania                  2017    3.349\n",
       "Name: happinessScore, dtype: float64"
      ]
     },
     "metadata": {},
     "output_type": "display_data"
    }
   ],
   "source": [
    "df_2015 = df[df[\"Year\"] == 2015]\n",
    "df_2016 = df[df[\"Year\"] == 2016]\n",
    "df_2017 = df[df[\"Year\"] == 2017]\n",
    "\n",
    "df_yr_dict = {2015: df_2015, 2016: df_2016, 2017: df_2017}\n",
    "for k, v in df_yr_dict.items():\n",
    "    print(\"\\nTop 3 'Most Happy' Countries (%d)\" % k)\n",
    "    display(v[\"happinessScore\"].sort_values(ascending=False)[:3])\n",
    "    print(\"\\nTop 3 'Least Happy' Countries (%d)\" % k)\n",
    "    display(v[\"happinessScore\"].sort_values(ascending=True)[:3])\n"
   ]
  },
  {
   "cell_type": "markdown",
   "metadata": {},
   "source": [
    "The results above match my intuition.  \n",
    "- Switzerland is recorded as one of the top 3 happiest countries in 2015 and 2016 and this makes sense considering Switzerland is known for their excellent health care, family planning, and low death rates.\n",
    "- Syria, on the other hand, is recorded as one of the bottom 3 hhappiest countries in 2015 and 2016.  This makes sense considering Syria was (and still is) unergoing a civil war. \n",
    "\n",
    "Now, I will train this data, using the happinessScore as the labels, to fit machine learning regression models.  I will use the models I have fit to predict on the larger unesco data set (years 1970-2019).  The rest of my exploration will inlove this larger dataset and my corresponding predictions for it."
   ]
  }
 ],
 "metadata": {
  "colab": {
   "collapsed_sections": [],
   "name": "466_week2.ipynb",
   "provenance": []
  },
  "kernelspec": {
   "display_name": "Python 3",
   "language": "python",
   "name": "python3"
  },
  "language_info": {
   "codemirror_mode": {
    "name": "ipython",
    "version": 3
   },
   "file_extension": ".py",
   "mimetype": "text/x-python",
   "name": "python",
   "nbconvert_exporter": "python",
   "pygments_lexer": "ipython3",
   "version": "3.7.3"
  }
 },
 "nbformat": 4,
 "nbformat_minor": 4
}
